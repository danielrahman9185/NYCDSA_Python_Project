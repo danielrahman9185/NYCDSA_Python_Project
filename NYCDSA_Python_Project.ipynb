{
 "cells": [
  {
   "cell_type": "markdown",
   "metadata": {},
   "source": [
    "# Data Cleaning and Introduction"
   ]
  },
  {
   "cell_type": "markdown",
   "metadata": {},
   "source": [
    "So to start off my project, what I want to do is that I want to import the necessary libraries and get to know my data and the type of problem that I need to solve. I'll start by importing the necessary libraries."
   ]
  },
  {
   "cell_type": "code",
   "execution_count": 1,
   "metadata": {},
   "outputs": [],
   "source": [
    "import numpy as np\n",
    "from scipy import stats\n",
    "import pandas as pd\n",
    "from matplotlib import pyplot as plt\n",
    "import seaborn as sns"
   ]
  },
  {
   "cell_type": "markdown",
   "metadata": {},
   "source": [
    "Now I want to load my datasets into Python."
   ]
  },
  {
   "cell_type": "code",
   "execution_count": 2,
   "metadata": {},
   "outputs": [],
   "source": [
    "nyc_parties = pd.read_csv('party_in_nyc.csv')\n",
    "bar_locations = pd.read_csv('bar_locations.csv')"
   ]
  },
  {
   "cell_type": "markdown",
   "metadata": {},
   "source": [
    "Now that both of my datasets have been loaded into Python, I want to take a look at them to get a better idea on what I'm working with."
   ]
  },
  {
   "cell_type": "code",
   "execution_count": 3,
   "metadata": {},
   "outputs": [
    {
     "data": {
      "text/html": [
       "<div>\n",
       "<style scoped>\n",
       "    .dataframe tbody tr th:only-of-type {\n",
       "        vertical-align: middle;\n",
       "    }\n",
       "\n",
       "    .dataframe tbody tr th {\n",
       "        vertical-align: top;\n",
       "    }\n",
       "\n",
       "    .dataframe thead th {\n",
       "        text-align: right;\n",
       "    }\n",
       "</style>\n",
       "<table border=\"1\" class=\"dataframe\">\n",
       "  <thead>\n",
       "    <tr style=\"text-align: right;\">\n",
       "      <th></th>\n",
       "      <th>Created Date</th>\n",
       "      <th>Closed Date</th>\n",
       "      <th>Location Type</th>\n",
       "      <th>Incident Zip</th>\n",
       "      <th>City</th>\n",
       "      <th>Borough</th>\n",
       "      <th>Latitude</th>\n",
       "      <th>Longitude</th>\n",
       "    </tr>\n",
       "  </thead>\n",
       "  <tbody>\n",
       "    <tr>\n",
       "      <th>0</th>\n",
       "      <td>2015-12-31 00:01:15</td>\n",
       "      <td>2015-12-31 03:48:04</td>\n",
       "      <td>Store/Commercial</td>\n",
       "      <td>10034.0</td>\n",
       "      <td>NEW YORK</td>\n",
       "      <td>MANHATTAN</td>\n",
       "      <td>40.866183</td>\n",
       "      <td>-73.918930</td>\n",
       "    </tr>\n",
       "    <tr>\n",
       "      <th>1</th>\n",
       "      <td>2015-12-31 00:02:48</td>\n",
       "      <td>2015-12-31 04:36:13</td>\n",
       "      <td>Store/Commercial</td>\n",
       "      <td>10040.0</td>\n",
       "      <td>NEW YORK</td>\n",
       "      <td>MANHATTAN</td>\n",
       "      <td>40.859324</td>\n",
       "      <td>-73.931237</td>\n",
       "    </tr>\n",
       "    <tr>\n",
       "      <th>2</th>\n",
       "      <td>2015-12-31 00:03:25</td>\n",
       "      <td>2015-12-31 00:40:15</td>\n",
       "      <td>Residential Building/House</td>\n",
       "      <td>10026.0</td>\n",
       "      <td>NEW YORK</td>\n",
       "      <td>MANHATTAN</td>\n",
       "      <td>40.799415</td>\n",
       "      <td>-73.953371</td>\n",
       "    </tr>\n",
       "    <tr>\n",
       "      <th>3</th>\n",
       "      <td>2015-12-31 00:03:26</td>\n",
       "      <td>2015-12-31 01:53:38</td>\n",
       "      <td>Residential Building/House</td>\n",
       "      <td>11231.0</td>\n",
       "      <td>BROOKLYN</td>\n",
       "      <td>BROOKLYN</td>\n",
       "      <td>40.678285</td>\n",
       "      <td>-73.994668</td>\n",
       "    </tr>\n",
       "    <tr>\n",
       "      <th>4</th>\n",
       "      <td>2015-12-31 00:05:10</td>\n",
       "      <td>2015-12-31 03:49:10</td>\n",
       "      <td>Residential Building/House</td>\n",
       "      <td>10033.0</td>\n",
       "      <td>NEW YORK</td>\n",
       "      <td>MANHATTAN</td>\n",
       "      <td>40.850304</td>\n",
       "      <td>-73.938516</td>\n",
       "    </tr>\n",
       "  </tbody>\n",
       "</table>\n",
       "</div>"
      ],
      "text/plain": [
       "          Created Date          Closed Date               Location Type  \\\n",
       "0  2015-12-31 00:01:15  2015-12-31 03:48:04            Store/Commercial   \n",
       "1  2015-12-31 00:02:48  2015-12-31 04:36:13            Store/Commercial   \n",
       "2  2015-12-31 00:03:25  2015-12-31 00:40:15  Residential Building/House   \n",
       "3  2015-12-31 00:03:26  2015-12-31 01:53:38  Residential Building/House   \n",
       "4  2015-12-31 00:05:10  2015-12-31 03:49:10  Residential Building/House   \n",
       "\n",
       "   Incident Zip      City    Borough   Latitude  Longitude  \n",
       "0       10034.0  NEW YORK  MANHATTAN  40.866183 -73.918930  \n",
       "1       10040.0  NEW YORK  MANHATTAN  40.859324 -73.931237  \n",
       "2       10026.0  NEW YORK  MANHATTAN  40.799415 -73.953371  \n",
       "3       11231.0  BROOKLYN   BROOKLYN  40.678285 -73.994668  \n",
       "4       10033.0  NEW YORK  MANHATTAN  40.850304 -73.938516  "
      ]
     },
     "execution_count": 3,
     "metadata": {},
     "output_type": "execute_result"
    }
   ],
   "source": [
    "nyc_parties.head()"
   ]
  },
  {
   "cell_type": "code",
   "execution_count": 4,
   "metadata": {},
   "outputs": [
    {
     "data": {
      "text/html": [
       "<div>\n",
       "<style scoped>\n",
       "    .dataframe tbody tr th:only-of-type {\n",
       "        vertical-align: middle;\n",
       "    }\n",
       "\n",
       "    .dataframe tbody tr th {\n",
       "        vertical-align: top;\n",
       "    }\n",
       "\n",
       "    .dataframe thead th {\n",
       "        text-align: right;\n",
       "    }\n",
       "</style>\n",
       "<table border=\"1\" class=\"dataframe\">\n",
       "  <thead>\n",
       "    <tr style=\"text-align: right;\">\n",
       "      <th></th>\n",
       "      <th>Location Type</th>\n",
       "      <th>Incident Zip</th>\n",
       "      <th>City</th>\n",
       "      <th>Borough</th>\n",
       "      <th>Latitude</th>\n",
       "      <th>Longitude</th>\n",
       "      <th>num_calls</th>\n",
       "    </tr>\n",
       "  </thead>\n",
       "  <tbody>\n",
       "    <tr>\n",
       "      <th>0</th>\n",
       "      <td>Club/Bar/Restaurant</td>\n",
       "      <td>10308.0</td>\n",
       "      <td>STATEN ISLAND</td>\n",
       "      <td>STATEN ISLAND</td>\n",
       "      <td>40.544096</td>\n",
       "      <td>-74.141155</td>\n",
       "      <td>40</td>\n",
       "    </tr>\n",
       "    <tr>\n",
       "      <th>1</th>\n",
       "      <td>Club/Bar/Restaurant</td>\n",
       "      <td>10012.0</td>\n",
       "      <td>NEW YORK</td>\n",
       "      <td>MANHATTAN</td>\n",
       "      <td>40.729793</td>\n",
       "      <td>-73.998842</td>\n",
       "      <td>18</td>\n",
       "    </tr>\n",
       "    <tr>\n",
       "      <th>2</th>\n",
       "      <td>Club/Bar/Restaurant</td>\n",
       "      <td>10308.0</td>\n",
       "      <td>STATEN ISLAND</td>\n",
       "      <td>STATEN ISLAND</td>\n",
       "      <td>40.544209</td>\n",
       "      <td>-74.141040</td>\n",
       "      <td>21</td>\n",
       "    </tr>\n",
       "    <tr>\n",
       "      <th>3</th>\n",
       "      <td>Club/Bar/Restaurant</td>\n",
       "      <td>10034.0</td>\n",
       "      <td>NEW YORK</td>\n",
       "      <td>MANHATTAN</td>\n",
       "      <td>40.866376</td>\n",
       "      <td>-73.928258</td>\n",
       "      <td>160</td>\n",
       "    </tr>\n",
       "    <tr>\n",
       "      <th>4</th>\n",
       "      <td>Club/Bar/Restaurant</td>\n",
       "      <td>11220.0</td>\n",
       "      <td>BROOKLYN</td>\n",
       "      <td>BROOKLYN</td>\n",
       "      <td>40.635207</td>\n",
       "      <td>-74.020285</td>\n",
       "      <td>17</td>\n",
       "    </tr>\n",
       "  </tbody>\n",
       "</table>\n",
       "</div>"
      ],
      "text/plain": [
       "         Location Type  Incident Zip           City        Borough   Latitude  \\\n",
       "0  Club/Bar/Restaurant       10308.0  STATEN ISLAND  STATEN ISLAND  40.544096   \n",
       "1  Club/Bar/Restaurant       10012.0       NEW YORK      MANHATTAN  40.729793   \n",
       "2  Club/Bar/Restaurant       10308.0  STATEN ISLAND  STATEN ISLAND  40.544209   \n",
       "3  Club/Bar/Restaurant       10034.0       NEW YORK      MANHATTAN  40.866376   \n",
       "4  Club/Bar/Restaurant       11220.0       BROOKLYN       BROOKLYN  40.635207   \n",
       "\n",
       "   Longitude  num_calls  \n",
       "0 -74.141155         40  \n",
       "1 -73.998842         18  \n",
       "2 -74.141040         21  \n",
       "3 -73.928258        160  \n",
       "4 -74.020285         17  "
      ]
     },
     "execution_count": 4,
     "metadata": {},
     "output_type": "execute_result"
    }
   ],
   "source": [
    "bar_locations.head()"
   ]
  },
  {
   "cell_type": "markdown",
   "metadata": {},
   "source": [
    "So after examining both datasets, it appears that I have a lot of useful things to measure. I can examine things like the boroughs that are most affected by these noise complaints, the location type mostly affected by these noise complaints and the times of year that most parties take place. Before I do anything, I need to make sure to clean the data to avoid any inconsistencies in my analysis. The first thing to check for would be missing values."
   ]
  },
  {
   "cell_type": "code",
   "execution_count": 5,
   "metadata": {},
   "outputs": [
    {
     "data": {
      "text/plain": [
       "Created Date        0\n",
       "Closed Date       795\n",
       "Location Type       0\n",
       "Incident Zip      990\n",
       "City              990\n",
       "Borough             0\n",
       "Latitude         1468\n",
       "Longitude        1468\n",
       "dtype: int64"
      ]
     },
     "execution_count": 5,
     "metadata": {},
     "output_type": "execute_result"
    }
   ],
   "source": [
    "np.sum(nyc_parties.isnull())"
   ]
  },
  {
   "cell_type": "code",
   "execution_count": 6,
   "metadata": {},
   "outputs": [
    {
     "data": {
      "text/plain": [
       "Location Type    0\n",
       "Incident Zip     0\n",
       "City             0\n",
       "Borough          0\n",
       "Latitude         0\n",
       "Longitude        0\n",
       "num_calls        0\n",
       "dtype: int64"
      ]
     },
     "execution_count": 6,
     "metadata": {},
     "output_type": "execute_result"
    }
   ],
   "source": [
    "np.sum(bar_locations.isnull())"
   ]
  },
  {
   "cell_type": "markdown",
   "metadata": {},
   "source": [
    "The good news is that `bar_locations` has no missing values, but the bad news is that there are plenty on `nyc_parties`. Now I'm curious to see how large the `nyc_parties` dataset is."
   ]
  },
  {
   "cell_type": "code",
   "execution_count": 7,
   "metadata": {},
   "outputs": [
    {
     "data": {
      "text/plain": [
       "225414"
      ]
     },
     "execution_count": 7,
     "metadata": {},
     "output_type": "execute_result"
    }
   ],
   "source": [
    "len(nyc_parties)"
   ]
  },
  {
   "cell_type": "markdown",
   "metadata": {},
   "source": [
    "So the dataset appears to be fairly large with the most missing values for a column being 1468. Before I do anything, I want to figure out which columns are most important for my analysis as that will be very helpful with the reduction of missing values from the dataset. I want to start off with the missing values from column `Closed Date`."
   ]
  },
  {
   "cell_type": "code",
   "execution_count": 8,
   "metadata": {},
   "outputs": [
    {
     "data": {
      "text/html": [
       "<div>\n",
       "<style scoped>\n",
       "    .dataframe tbody tr th:only-of-type {\n",
       "        vertical-align: middle;\n",
       "    }\n",
       "\n",
       "    .dataframe tbody tr th {\n",
       "        vertical-align: top;\n",
       "    }\n",
       "\n",
       "    .dataframe thead th {\n",
       "        text-align: right;\n",
       "    }\n",
       "</style>\n",
       "<table border=\"1\" class=\"dataframe\">\n",
       "  <thead>\n",
       "    <tr style=\"text-align: right;\">\n",
       "      <th></th>\n",
       "      <th>Created Date</th>\n",
       "      <th>Closed Date</th>\n",
       "      <th>Party Duration</th>\n",
       "      <th>Location Type</th>\n",
       "      <th>Incident Zip</th>\n",
       "      <th>City</th>\n",
       "      <th>Borough</th>\n",
       "      <th>Latitude</th>\n",
       "      <th>Longitude</th>\n",
       "    </tr>\n",
       "  </thead>\n",
       "  <tbody>\n",
       "    <tr>\n",
       "      <th>0</th>\n",
       "      <td>2015-12-31 00:01:15</td>\n",
       "      <td>2015-12-31 03:48:04</td>\n",
       "      <td>0 days 03:46:49</td>\n",
       "      <td>Store/Commercial</td>\n",
       "      <td>10034.0</td>\n",
       "      <td>NEW YORK</td>\n",
       "      <td>MANHATTAN</td>\n",
       "      <td>40.866183</td>\n",
       "      <td>-73.918930</td>\n",
       "    </tr>\n",
       "    <tr>\n",
       "      <th>1</th>\n",
       "      <td>2015-12-31 00:02:48</td>\n",
       "      <td>2015-12-31 04:36:13</td>\n",
       "      <td>0 days 04:33:25</td>\n",
       "      <td>Store/Commercial</td>\n",
       "      <td>10040.0</td>\n",
       "      <td>NEW YORK</td>\n",
       "      <td>MANHATTAN</td>\n",
       "      <td>40.859324</td>\n",
       "      <td>-73.931237</td>\n",
       "    </tr>\n",
       "    <tr>\n",
       "      <th>2</th>\n",
       "      <td>2015-12-31 00:03:25</td>\n",
       "      <td>2015-12-31 00:40:15</td>\n",
       "      <td>0 days 00:36:50</td>\n",
       "      <td>Residential Building/House</td>\n",
       "      <td>10026.0</td>\n",
       "      <td>NEW YORK</td>\n",
       "      <td>MANHATTAN</td>\n",
       "      <td>40.799415</td>\n",
       "      <td>-73.953371</td>\n",
       "    </tr>\n",
       "    <tr>\n",
       "      <th>3</th>\n",
       "      <td>2015-12-31 00:03:26</td>\n",
       "      <td>2015-12-31 01:53:38</td>\n",
       "      <td>0 days 01:50:12</td>\n",
       "      <td>Residential Building/House</td>\n",
       "      <td>11231.0</td>\n",
       "      <td>BROOKLYN</td>\n",
       "      <td>BROOKLYN</td>\n",
       "      <td>40.678285</td>\n",
       "      <td>-73.994668</td>\n",
       "    </tr>\n",
       "    <tr>\n",
       "      <th>4</th>\n",
       "      <td>2015-12-31 00:05:10</td>\n",
       "      <td>2015-12-31 03:49:10</td>\n",
       "      <td>0 days 03:44:00</td>\n",
       "      <td>Residential Building/House</td>\n",
       "      <td>10033.0</td>\n",
       "      <td>NEW YORK</td>\n",
       "      <td>MANHATTAN</td>\n",
       "      <td>40.850304</td>\n",
       "      <td>-73.938516</td>\n",
       "    </tr>\n",
       "  </tbody>\n",
       "</table>\n",
       "</div>"
      ],
      "text/plain": [
       "         Created Date         Closed Date  Party Duration  \\\n",
       "0 2015-12-31 00:01:15 2015-12-31 03:48:04 0 days 03:46:49   \n",
       "1 2015-12-31 00:02:48 2015-12-31 04:36:13 0 days 04:33:25   \n",
       "2 2015-12-31 00:03:25 2015-12-31 00:40:15 0 days 00:36:50   \n",
       "3 2015-12-31 00:03:26 2015-12-31 01:53:38 0 days 01:50:12   \n",
       "4 2015-12-31 00:05:10 2015-12-31 03:49:10 0 days 03:44:00   \n",
       "\n",
       "                Location Type  Incident Zip      City    Borough   Latitude  \\\n",
       "0            Store/Commercial       10034.0  NEW YORK  MANHATTAN  40.866183   \n",
       "1            Store/Commercial       10040.0  NEW YORK  MANHATTAN  40.859324   \n",
       "2  Residential Building/House       10026.0  NEW YORK  MANHATTAN  40.799415   \n",
       "3  Residential Building/House       11231.0  BROOKLYN   BROOKLYN  40.678285   \n",
       "4  Residential Building/House       10033.0  NEW YORK  MANHATTAN  40.850304   \n",
       "\n",
       "   Longitude  \n",
       "0 -73.918930  \n",
       "1 -73.931237  \n",
       "2 -73.953371  \n",
       "3 -73.994668  \n",
       "4 -73.938516  "
      ]
     },
     "execution_count": 8,
     "metadata": {},
     "output_type": "execute_result"
    }
   ],
   "source": [
    "import datetime as dt\n",
    "from datetime import datetime\n",
    "\n",
    "nyc_parties['Created Date'] = pd.to_datetime(nyc_parties['Created Date'])\n",
    "nyc_parties['Closed Date'] = pd.to_datetime(nyc_parties['Closed Date'])\n",
    "\n",
    "date_diff = nyc_parties['Closed Date'] - nyc_parties['Created Date']\n",
    "nyc_parties.insert(2, 'Party Duration', date_diff)\n",
    "\n",
    "nyc_parties.head()"
   ]
  },
  {
   "cell_type": "markdown",
   "metadata": {},
   "source": [
    "So I added a new column called `Party Duration` that takes the amount of time that each party lasted. I now want to work on dealing with those missing values."
   ]
  },
  {
   "cell_type": "code",
   "execution_count": 9,
   "metadata": {},
   "outputs": [
    {
     "data": {
      "text/plain": [
       "Created Date         0\n",
       "Closed Date        795\n",
       "Party Duration     795\n",
       "Location Type        0\n",
       "Incident Zip       990\n",
       "City               990\n",
       "Borough              0\n",
       "Latitude          1468\n",
       "Longitude         1468\n",
       "dtype: int64"
      ]
     },
     "execution_count": 9,
     "metadata": {},
     "output_type": "execute_result"
    }
   ],
   "source": [
    "np.sum(nyc_parties.isnull())"
   ]
  },
  {
   "cell_type": "markdown",
   "metadata": {},
   "source": [
    "As it is shown above, both `Closed Date` and `Party Duration` both have the same amount of missing values. I want to try and see if imputing the mean into the missing values would work out well."
   ]
  },
  {
   "cell_type": "code",
   "execution_count": 10,
   "metadata": {},
   "outputs": [
    {
     "data": {
      "text/plain": [
       "Timedelta('-1 days +15:23:18.896219821')"
      ]
     },
     "execution_count": 10,
     "metadata": {},
     "output_type": "execute_result"
    }
   ],
   "source": [
    "nyc_parties['Party Duration'].mean()"
   ]
  },
  {
   "cell_type": "markdown",
   "metadata": {},
   "source": [
    "So it looks like on average, I have a negative amount of days. That can't be right. Time to do some investigation onto why I have a negative amount of days as my average."
   ]
  },
  {
   "cell_type": "code",
   "execution_count": 11,
   "metadata": {},
   "outputs": [
    {
     "data": {
      "text/html": [
       "<div>\n",
       "<style scoped>\n",
       "    .dataframe tbody tr th:only-of-type {\n",
       "        vertical-align: middle;\n",
       "    }\n",
       "\n",
       "    .dataframe tbody tr th {\n",
       "        vertical-align: top;\n",
       "    }\n",
       "\n",
       "    .dataframe thead th {\n",
       "        text-align: right;\n",
       "    }\n",
       "</style>\n",
       "<table border=\"1\" class=\"dataframe\">\n",
       "  <thead>\n",
       "    <tr style=\"text-align: right;\">\n",
       "      <th></th>\n",
       "      <th>Created Date</th>\n",
       "      <th>Closed Date</th>\n",
       "      <th>Party Duration</th>\n",
       "      <th>Location Type</th>\n",
       "      <th>Incident Zip</th>\n",
       "      <th>City</th>\n",
       "      <th>Borough</th>\n",
       "      <th>Latitude</th>\n",
       "      <th>Longitude</th>\n",
       "    </tr>\n",
       "  </thead>\n",
       "  <tbody>\n",
       "    <tr>\n",
       "      <th>28552</th>\n",
       "      <td>2016-03-12 18:29:57</td>\n",
       "      <td>1900-01-01</td>\n",
       "      <td>-42440 days +05:30:03</td>\n",
       "      <td>Street/Sidewalk</td>\n",
       "      <td>NaN</td>\n",
       "      <td>NaN</td>\n",
       "      <td>Unspecified</td>\n",
       "      <td>NaN</td>\n",
       "      <td>NaN</td>\n",
       "    </tr>\n",
       "    <tr>\n",
       "      <th>28852</th>\n",
       "      <td>2016-03-12 22:49:56</td>\n",
       "      <td>1900-01-01</td>\n",
       "      <td>-42440 days +01:10:04</td>\n",
       "      <td>Street/Sidewalk</td>\n",
       "      <td>NaN</td>\n",
       "      <td>NaN</td>\n",
       "      <td>Unspecified</td>\n",
       "      <td>NaN</td>\n",
       "      <td>NaN</td>\n",
       "    </tr>\n",
       "    <tr>\n",
       "      <th>28866</th>\n",
       "      <td>2016-03-12 22:56:09</td>\n",
       "      <td>1900-01-01</td>\n",
       "      <td>-42440 days +01:03:51</td>\n",
       "      <td>Residential Building/House</td>\n",
       "      <td>NaN</td>\n",
       "      <td>NaN</td>\n",
       "      <td>Unspecified</td>\n",
       "      <td>NaN</td>\n",
       "      <td>NaN</td>\n",
       "    </tr>\n",
       "  </tbody>\n",
       "</table>\n",
       "</div>"
      ],
      "text/plain": [
       "             Created Date Closed Date        Party Duration  \\\n",
       "28552 2016-03-12 18:29:57  1900-01-01 -42440 days +05:30:03   \n",
       "28852 2016-03-12 22:49:56  1900-01-01 -42440 days +01:10:04   \n",
       "28866 2016-03-12 22:56:09  1900-01-01 -42440 days +01:03:51   \n",
       "\n",
       "                    Location Type  Incident Zip City      Borough  Latitude  \\\n",
       "28552             Street/Sidewalk           NaN  NaN  Unspecified       NaN   \n",
       "28852             Street/Sidewalk           NaN  NaN  Unspecified       NaN   \n",
       "28866  Residential Building/House           NaN  NaN  Unspecified       NaN   \n",
       "\n",
       "       Longitude  \n",
       "28552        NaN  \n",
       "28852        NaN  \n",
       "28866        NaN  "
      ]
     },
     "execution_count": 11,
     "metadata": {},
     "output_type": "execute_result"
    }
   ],
   "source": [
    "nyc_parties.loc[nyc_parties['Party Duration'] < pd.Timedelta(0)]"
   ]
  },
  {
   "cell_type": "markdown",
   "metadata": {},
   "source": [
    "So with the table above I can see some `Closed Date` values that make absolutely no sense. Other than that, I don't see much going for these rows. It might be best to remove them, however they do have some interesting information like `Created Date` and `Location Type`. I'll just look more into these columns to see if I should completely remove them from the dataset."
   ]
  },
  {
   "cell_type": "code",
   "execution_count": 12,
   "metadata": {},
   "outputs": [
    {
     "data": {
      "text/plain": [
       "Residential Building/House    146040\n",
       "Street/Sidewalk                42353\n",
       "Store/Commercial               17617\n",
       "Club/Bar/Restaurant            15766\n",
       "Park/Playground                 3036\n",
       "House of Worship                 602\n",
       "Name: Location Type, dtype: int64"
      ]
     },
     "execution_count": 12,
     "metadata": {},
     "output_type": "execute_result"
    }
   ],
   "source": [
    "nyc_parties['Location Type'].value_counts()"
   ]
  },
  {
   "cell_type": "code",
   "execution_count": 13,
   "metadata": {},
   "outputs": [
    {
     "name": "stdout",
     "output_type": "stream",
     "text": [
      "225414\n"
     ]
    },
    {
     "data": {
      "text/plain": [
       "614.2070844686649"
      ]
     },
     "execution_count": 13,
     "metadata": {},
     "output_type": "execute_result"
    }
   ],
   "source": [
    "print(sum(nyc_parties['Created Date'].dt.date.value_counts()))\n",
    "\n",
    "nyc_parties['Created Date'].dt.date.value_counts().mean()"
   ]
  },
  {
   "cell_type": "markdown",
   "metadata": {},
   "source": [
    "I mean after looking at it, it doesn't seem like I'll do much damage to the data if I remove those 3 rows from the dataset."
   ]
  },
  {
   "cell_type": "code",
   "execution_count": 14,
   "metadata": {},
   "outputs": [],
   "source": [
    "nyc_parties.drop(labels = [28552, 28852, 28866], inplace = True)"
   ]
  },
  {
   "cell_type": "code",
   "execution_count": 15,
   "metadata": {},
   "outputs": [
    {
     "data": {
      "text/html": [
       "<div>\n",
       "<style scoped>\n",
       "    .dataframe tbody tr th:only-of-type {\n",
       "        vertical-align: middle;\n",
       "    }\n",
       "\n",
       "    .dataframe tbody tr th {\n",
       "        vertical-align: top;\n",
       "    }\n",
       "\n",
       "    .dataframe thead th {\n",
       "        text-align: right;\n",
       "    }\n",
       "</style>\n",
       "<table border=\"1\" class=\"dataframe\">\n",
       "  <thead>\n",
       "    <tr style=\"text-align: right;\">\n",
       "      <th></th>\n",
       "      <th>Created Date</th>\n",
       "      <th>Closed Date</th>\n",
       "      <th>Party Duration</th>\n",
       "      <th>Location Type</th>\n",
       "      <th>Incident Zip</th>\n",
       "      <th>City</th>\n",
       "      <th>Borough</th>\n",
       "      <th>Latitude</th>\n",
       "      <th>Longitude</th>\n",
       "    </tr>\n",
       "  </thead>\n",
       "  <tbody>\n",
       "  </tbody>\n",
       "</table>\n",
       "</div>"
      ],
      "text/plain": [
       "Empty DataFrame\n",
       "Columns: [Created Date, Closed Date, Party Duration, Location Type, Incident Zip, City, Borough, Latitude, Longitude]\n",
       "Index: []"
      ]
     },
     "execution_count": 15,
     "metadata": {},
     "output_type": "execute_result"
    }
   ],
   "source": [
    "nyc_parties.loc[nyc_parties['Party Duration'] < pd.Timedelta(0)]"
   ]
  },
  {
   "cell_type": "markdown",
   "metadata": {},
   "source": [
    "So now that those rows are gone, I'll take a look at the number of missing values in the dataset and the mean of `Party Duration`."
   ]
  },
  {
   "cell_type": "code",
   "execution_count": 16,
   "metadata": {},
   "outputs": [
    {
     "data": {
      "text/plain": [
       "Created Date         0\n",
       "Closed Date        795\n",
       "Party Duration     795\n",
       "Location Type        0\n",
       "Incident Zip       987\n",
       "City               987\n",
       "Borough              0\n",
       "Latitude          1465\n",
       "Longitude         1465\n",
       "dtype: int64"
      ]
     },
     "execution_count": 16,
     "metadata": {},
     "output_type": "execute_result"
    }
   ],
   "source": [
    "np.sum(nyc_parties.isnull())"
   ]
  },
  {
   "cell_type": "code",
   "execution_count": 17,
   "metadata": {},
   "outputs": [
    {
     "data": {
      "text/plain": [
       "Timedelta('0 days 04:59:32.821312818')"
      ]
     },
     "execution_count": 17,
     "metadata": {},
     "output_type": "execute_result"
    }
   ],
   "source": [
    "nyc_parties['Party Duration'].mean()"
   ]
  },
  {
   "cell_type": "markdown",
   "metadata": {},
   "source": [
    "So a few missing values have disappeared from the dataset and now I have a mean for `Party Duration` that makes much more sense. Now I want to go back to dealing with the missing values from the dataset."
   ]
  },
  {
   "cell_type": "code",
   "execution_count": 18,
   "metadata": {},
   "outputs": [
    {
     "data": {
      "text/html": [
       "<div>\n",
       "<style scoped>\n",
       "    .dataframe tbody tr th:only-of-type {\n",
       "        vertical-align: middle;\n",
       "    }\n",
       "\n",
       "    .dataframe tbody tr th {\n",
       "        vertical-align: top;\n",
       "    }\n",
       "\n",
       "    .dataframe thead th {\n",
       "        text-align: right;\n",
       "    }\n",
       "</style>\n",
       "<table border=\"1\" class=\"dataframe\">\n",
       "  <thead>\n",
       "    <tr style=\"text-align: right;\">\n",
       "      <th></th>\n",
       "      <th>Created Date</th>\n",
       "      <th>Closed Date</th>\n",
       "      <th>Party Duration</th>\n",
       "      <th>Location Type</th>\n",
       "      <th>Incident Zip</th>\n",
       "      <th>City</th>\n",
       "      <th>Borough</th>\n",
       "      <th>Latitude</th>\n",
       "      <th>Longitude</th>\n",
       "    </tr>\n",
       "  </thead>\n",
       "  <tbody>\n",
       "    <tr>\n",
       "      <th>0</th>\n",
       "      <td>2015-12-31 00:01:15</td>\n",
       "      <td>2015-12-31 03:48:04</td>\n",
       "      <td>0 days 03:46:49</td>\n",
       "      <td>Store/Commercial</td>\n",
       "      <td>10034.0</td>\n",
       "      <td>NEW YORK</td>\n",
       "      <td>MANHATTAN</td>\n",
       "      <td>40.866183</td>\n",
       "      <td>-73.918930</td>\n",
       "    </tr>\n",
       "    <tr>\n",
       "      <th>1</th>\n",
       "      <td>2015-12-31 00:02:48</td>\n",
       "      <td>2015-12-31 04:36:13</td>\n",
       "      <td>0 days 04:33:25</td>\n",
       "      <td>Store/Commercial</td>\n",
       "      <td>10040.0</td>\n",
       "      <td>NEW YORK</td>\n",
       "      <td>MANHATTAN</td>\n",
       "      <td>40.859324</td>\n",
       "      <td>-73.931237</td>\n",
       "    </tr>\n",
       "    <tr>\n",
       "      <th>2</th>\n",
       "      <td>2015-12-31 00:03:25</td>\n",
       "      <td>2015-12-31 00:40:15</td>\n",
       "      <td>0 days 00:36:50</td>\n",
       "      <td>Residential Building/House</td>\n",
       "      <td>10026.0</td>\n",
       "      <td>NEW YORK</td>\n",
       "      <td>MANHATTAN</td>\n",
       "      <td>40.799415</td>\n",
       "      <td>-73.953371</td>\n",
       "    </tr>\n",
       "    <tr>\n",
       "      <th>3</th>\n",
       "      <td>2015-12-31 00:03:26</td>\n",
       "      <td>2015-12-31 01:53:38</td>\n",
       "      <td>0 days 01:50:12</td>\n",
       "      <td>Residential Building/House</td>\n",
       "      <td>11231.0</td>\n",
       "      <td>BROOKLYN</td>\n",
       "      <td>BROOKLYN</td>\n",
       "      <td>40.678285</td>\n",
       "      <td>-73.994668</td>\n",
       "    </tr>\n",
       "    <tr>\n",
       "      <th>4</th>\n",
       "      <td>2015-12-31 00:05:10</td>\n",
       "      <td>2015-12-31 03:49:10</td>\n",
       "      <td>0 days 03:44:00</td>\n",
       "      <td>Residential Building/House</td>\n",
       "      <td>10033.0</td>\n",
       "      <td>NEW YORK</td>\n",
       "      <td>MANHATTAN</td>\n",
       "      <td>40.850304</td>\n",
       "      <td>-73.938516</td>\n",
       "    </tr>\n",
       "  </tbody>\n",
       "</table>\n",
       "</div>"
      ],
      "text/plain": [
       "         Created Date         Closed Date  Party Duration  \\\n",
       "0 2015-12-31 00:01:15 2015-12-31 03:48:04 0 days 03:46:49   \n",
       "1 2015-12-31 00:02:48 2015-12-31 04:36:13 0 days 04:33:25   \n",
       "2 2015-12-31 00:03:25 2015-12-31 00:40:15 0 days 00:36:50   \n",
       "3 2015-12-31 00:03:26 2015-12-31 01:53:38 0 days 01:50:12   \n",
       "4 2015-12-31 00:05:10 2015-12-31 03:49:10 0 days 03:44:00   \n",
       "\n",
       "                Location Type  Incident Zip      City    Borough   Latitude  \\\n",
       "0            Store/Commercial       10034.0  NEW YORK  MANHATTAN  40.866183   \n",
       "1            Store/Commercial       10040.0  NEW YORK  MANHATTAN  40.859324   \n",
       "2  Residential Building/House       10026.0  NEW YORK  MANHATTAN  40.799415   \n",
       "3  Residential Building/House       11231.0  BROOKLYN   BROOKLYN  40.678285   \n",
       "4  Residential Building/House       10033.0  NEW YORK  MANHATTAN  40.850304   \n",
       "\n",
       "   Longitude  \n",
       "0 -73.918930  \n",
       "1 -73.931237  \n",
       "2 -73.953371  \n",
       "3 -73.994668  \n",
       "4 -73.938516  "
      ]
     },
     "execution_count": 18,
     "metadata": {},
     "output_type": "execute_result"
    }
   ],
   "source": [
    "nyc_parties.head()"
   ]
  },
  {
   "cell_type": "markdown",
   "metadata": {},
   "source": [
    "I want to first get an idea on how many rows are filled with missing values. To do that, I'll create a separate dataframe to examine them to see if they are still usable."
   ]
  },
  {
   "cell_type": "code",
   "execution_count": 19,
   "metadata": {},
   "outputs": [
    {
     "data": {
      "text/plain": [
       "1550"
      ]
     },
     "execution_count": 19,
     "metadata": {},
     "output_type": "execute_result"
    }
   ],
   "source": [
    "nyc_parties_missing = nyc_parties[nyc_parties.isnull().any(axis = 1)]\n",
    "len(nyc_parties_missing)"
   ]
  },
  {
   "cell_type": "code",
   "execution_count": 20,
   "metadata": {},
   "outputs": [
    {
     "data": {
      "text/html": [
       "<div>\n",
       "<style scoped>\n",
       "    .dataframe tbody tr th:only-of-type {\n",
       "        vertical-align: middle;\n",
       "    }\n",
       "\n",
       "    .dataframe tbody tr th {\n",
       "        vertical-align: top;\n",
       "    }\n",
       "\n",
       "    .dataframe thead th {\n",
       "        text-align: right;\n",
       "    }\n",
       "</style>\n",
       "<table border=\"1\" class=\"dataframe\">\n",
       "  <thead>\n",
       "    <tr style=\"text-align: right;\">\n",
       "      <th></th>\n",
       "      <th>Created Date</th>\n",
       "      <th>Closed Date</th>\n",
       "      <th>Party Duration</th>\n",
       "      <th>Location Type</th>\n",
       "      <th>Incident Zip</th>\n",
       "      <th>City</th>\n",
       "      <th>Borough</th>\n",
       "      <th>Latitude</th>\n",
       "      <th>Longitude</th>\n",
       "    </tr>\n",
       "  </thead>\n",
       "  <tbody>\n",
       "    <tr>\n",
       "      <th>38</th>\n",
       "      <td>2015-12-31 00:38:41</td>\n",
       "      <td>NaT</td>\n",
       "      <td>NaT</td>\n",
       "      <td>Residential Building/House</td>\n",
       "      <td>NaN</td>\n",
       "      <td>NaN</td>\n",
       "      <td>Unspecified</td>\n",
       "      <td>NaN</td>\n",
       "      <td>NaN</td>\n",
       "    </tr>\n",
       "    <tr>\n",
       "      <th>164</th>\n",
       "      <td>2015-12-31 09:58:06</td>\n",
       "      <td>NaT</td>\n",
       "      <td>NaT</td>\n",
       "      <td>Street/Sidewalk</td>\n",
       "      <td>NaN</td>\n",
       "      <td>NaN</td>\n",
       "      <td>Unspecified</td>\n",
       "      <td>NaN</td>\n",
       "      <td>NaN</td>\n",
       "    </tr>\n",
       "    <tr>\n",
       "      <th>498</th>\n",
       "      <td>2015-12-31 23:27:13</td>\n",
       "      <td>2016-01-01 12:17:26</td>\n",
       "      <td>0 days 12:50:13</td>\n",
       "      <td>Residential Building/House</td>\n",
       "      <td>NaN</td>\n",
       "      <td>NaN</td>\n",
       "      <td>Unspecified</td>\n",
       "      <td>NaN</td>\n",
       "      <td>NaN</td>\n",
       "    </tr>\n",
       "    <tr>\n",
       "      <th>550</th>\n",
       "      <td>2016-01-01 00:02:59</td>\n",
       "      <td>2016-01-01 23:35:50</td>\n",
       "      <td>0 days 23:32:51</td>\n",
       "      <td>Residential Building/House</td>\n",
       "      <td>NaN</td>\n",
       "      <td>NaN</td>\n",
       "      <td>Unspecified</td>\n",
       "      <td>NaN</td>\n",
       "      <td>NaN</td>\n",
       "    </tr>\n",
       "    <tr>\n",
       "      <th>579</th>\n",
       "      <td>2016-01-01 00:19:41</td>\n",
       "      <td>2016-01-01 08:58:56</td>\n",
       "      <td>0 days 08:39:15</td>\n",
       "      <td>Street/Sidewalk</td>\n",
       "      <td>NaN</td>\n",
       "      <td>NaN</td>\n",
       "      <td>Unspecified</td>\n",
       "      <td>NaN</td>\n",
       "      <td>NaN</td>\n",
       "    </tr>\n",
       "    <tr>\n",
       "      <th>741</th>\n",
       "      <td>2016-01-01 01:11:17</td>\n",
       "      <td>2016-01-01 23:36:54</td>\n",
       "      <td>0 days 22:25:37</td>\n",
       "      <td>Residential Building/House</td>\n",
       "      <td>NaN</td>\n",
       "      <td>NaN</td>\n",
       "      <td>Unspecified</td>\n",
       "      <td>NaN</td>\n",
       "      <td>NaN</td>\n",
       "    </tr>\n",
       "    <tr>\n",
       "      <th>1087</th>\n",
       "      <td>2016-01-01 03:14:51</td>\n",
       "      <td>2016-01-01 07:19:41</td>\n",
       "      <td>0 days 04:04:50</td>\n",
       "      <td>Residential Building/House</td>\n",
       "      <td>10009.0</td>\n",
       "      <td>NEW YORK</td>\n",
       "      <td>MANHATTAN</td>\n",
       "      <td>NaN</td>\n",
       "      <td>NaN</td>\n",
       "    </tr>\n",
       "    <tr>\n",
       "      <th>1794</th>\n",
       "      <td>2016-01-02 00:52:19</td>\n",
       "      <td>2016-01-03 01:29:08</td>\n",
       "      <td>1 days 00:36:49</td>\n",
       "      <td>Store/Commercial</td>\n",
       "      <td>NaN</td>\n",
       "      <td>NaN</td>\n",
       "      <td>Unspecified</td>\n",
       "      <td>NaN</td>\n",
       "      <td>NaN</td>\n",
       "    </tr>\n",
       "    <tr>\n",
       "      <th>1910</th>\n",
       "      <td>2016-01-02 04:36:45</td>\n",
       "      <td>2016-01-03 02:44:23</td>\n",
       "      <td>0 days 22:07:38</td>\n",
       "      <td>Residential Building/House</td>\n",
       "      <td>NaN</td>\n",
       "      <td>NaN</td>\n",
       "      <td>Unspecified</td>\n",
       "      <td>NaN</td>\n",
       "      <td>NaN</td>\n",
       "    </tr>\n",
       "    <tr>\n",
       "      <th>2307</th>\n",
       "      <td>2016-01-02 23:50:59</td>\n",
       "      <td>2016-01-03 04:18:41</td>\n",
       "      <td>0 days 04:27:42</td>\n",
       "      <td>Residential Building/House</td>\n",
       "      <td>NaN</td>\n",
       "      <td>NaN</td>\n",
       "      <td>Unspecified</td>\n",
       "      <td>NaN</td>\n",
       "      <td>NaN</td>\n",
       "    </tr>\n",
       "    <tr>\n",
       "      <th>2362</th>\n",
       "      <td>2016-01-03 00:12:48</td>\n",
       "      <td>2016-01-03 15:50:56</td>\n",
       "      <td>0 days 15:38:08</td>\n",
       "      <td>Residential Building/House</td>\n",
       "      <td>NaN</td>\n",
       "      <td>NaN</td>\n",
       "      <td>Unspecified</td>\n",
       "      <td>NaN</td>\n",
       "      <td>NaN</td>\n",
       "    </tr>\n",
       "    <tr>\n",
       "      <th>2802</th>\n",
       "      <td>2016-01-03 14:18:55</td>\n",
       "      <td>NaT</td>\n",
       "      <td>NaT</td>\n",
       "      <td>Street/Sidewalk</td>\n",
       "      <td>NaN</td>\n",
       "      <td>NaN</td>\n",
       "      <td>Unspecified</td>\n",
       "      <td>NaN</td>\n",
       "      <td>NaN</td>\n",
       "    </tr>\n",
       "    <tr>\n",
       "      <th>3271</th>\n",
       "      <td>2016-01-05 09:36:11</td>\n",
       "      <td>2016-01-05 18:46:15</td>\n",
       "      <td>0 days 09:10:04</td>\n",
       "      <td>Street/Sidewalk</td>\n",
       "      <td>NaN</td>\n",
       "      <td>NaN</td>\n",
       "      <td>Unspecified</td>\n",
       "      <td>NaN</td>\n",
       "      <td>NaN</td>\n",
       "    </tr>\n",
       "    <tr>\n",
       "      <th>3473</th>\n",
       "      <td>2016-01-06 14:33:09</td>\n",
       "      <td>2016-01-06 19:58:04</td>\n",
       "      <td>0 days 05:24:55</td>\n",
       "      <td>Street/Sidewalk</td>\n",
       "      <td>NaN</td>\n",
       "      <td>NaN</td>\n",
       "      <td>Unspecified</td>\n",
       "      <td>NaN</td>\n",
       "      <td>NaN</td>\n",
       "    </tr>\n",
       "    <tr>\n",
       "      <th>3487</th>\n",
       "      <td>2016-01-06 17:53:55</td>\n",
       "      <td>NaT</td>\n",
       "      <td>NaT</td>\n",
       "      <td>Store/Commercial</td>\n",
       "      <td>NaN</td>\n",
       "      <td>NaN</td>\n",
       "      <td>Unspecified</td>\n",
       "      <td>NaN</td>\n",
       "      <td>NaN</td>\n",
       "    </tr>\n",
       "    <tr>\n",
       "      <th>3654</th>\n",
       "      <td>2016-01-07 09:31:36</td>\n",
       "      <td>NaT</td>\n",
       "      <td>NaT</td>\n",
       "      <td>Street/Sidewalk</td>\n",
       "      <td>NaN</td>\n",
       "      <td>NaN</td>\n",
       "      <td>Unspecified</td>\n",
       "      <td>NaN</td>\n",
       "      <td>NaN</td>\n",
       "    </tr>\n",
       "    <tr>\n",
       "      <th>3845</th>\n",
       "      <td>2016-01-08 01:39:59</td>\n",
       "      <td>NaT</td>\n",
       "      <td>NaT</td>\n",
       "      <td>Residential Building/House</td>\n",
       "      <td>NaN</td>\n",
       "      <td>NaN</td>\n",
       "      <td>Unspecified</td>\n",
       "      <td>NaN</td>\n",
       "      <td>NaN</td>\n",
       "    </tr>\n",
       "    <tr>\n",
       "      <th>4182</th>\n",
       "      <td>2016-01-09 00:12:04</td>\n",
       "      <td>2016-01-09 07:15:55</td>\n",
       "      <td>0 days 07:03:51</td>\n",
       "      <td>Club/Bar/Restaurant</td>\n",
       "      <td>10471.0</td>\n",
       "      <td>BRONX</td>\n",
       "      <td>BRONX</td>\n",
       "      <td>NaN</td>\n",
       "      <td>NaN</td>\n",
       "    </tr>\n",
       "    <tr>\n",
       "      <th>4293</th>\n",
       "      <td>2016-01-09 01:46:23</td>\n",
       "      <td>2016-01-09 16:36:37</td>\n",
       "      <td>0 days 14:50:14</td>\n",
       "      <td>Residential Building/House</td>\n",
       "      <td>NaN</td>\n",
       "      <td>NaN</td>\n",
       "      <td>Unspecified</td>\n",
       "      <td>NaN</td>\n",
       "      <td>NaN</td>\n",
       "    </tr>\n",
       "    <tr>\n",
       "      <th>4698</th>\n",
       "      <td>2016-01-09 22:38:48</td>\n",
       "      <td>NaT</td>\n",
       "      <td>NaT</td>\n",
       "      <td>Residential Building/House</td>\n",
       "      <td>NaN</td>\n",
       "      <td>NaN</td>\n",
       "      <td>Unspecified</td>\n",
       "      <td>NaN</td>\n",
       "      <td>NaN</td>\n",
       "    </tr>\n",
       "  </tbody>\n",
       "</table>\n",
       "</div>"
      ],
      "text/plain": [
       "            Created Date         Closed Date  Party Duration  \\\n",
       "38   2015-12-31 00:38:41                 NaT             NaT   \n",
       "164  2015-12-31 09:58:06                 NaT             NaT   \n",
       "498  2015-12-31 23:27:13 2016-01-01 12:17:26 0 days 12:50:13   \n",
       "550  2016-01-01 00:02:59 2016-01-01 23:35:50 0 days 23:32:51   \n",
       "579  2016-01-01 00:19:41 2016-01-01 08:58:56 0 days 08:39:15   \n",
       "741  2016-01-01 01:11:17 2016-01-01 23:36:54 0 days 22:25:37   \n",
       "1087 2016-01-01 03:14:51 2016-01-01 07:19:41 0 days 04:04:50   \n",
       "1794 2016-01-02 00:52:19 2016-01-03 01:29:08 1 days 00:36:49   \n",
       "1910 2016-01-02 04:36:45 2016-01-03 02:44:23 0 days 22:07:38   \n",
       "2307 2016-01-02 23:50:59 2016-01-03 04:18:41 0 days 04:27:42   \n",
       "2362 2016-01-03 00:12:48 2016-01-03 15:50:56 0 days 15:38:08   \n",
       "2802 2016-01-03 14:18:55                 NaT             NaT   \n",
       "3271 2016-01-05 09:36:11 2016-01-05 18:46:15 0 days 09:10:04   \n",
       "3473 2016-01-06 14:33:09 2016-01-06 19:58:04 0 days 05:24:55   \n",
       "3487 2016-01-06 17:53:55                 NaT             NaT   \n",
       "3654 2016-01-07 09:31:36                 NaT             NaT   \n",
       "3845 2016-01-08 01:39:59                 NaT             NaT   \n",
       "4182 2016-01-09 00:12:04 2016-01-09 07:15:55 0 days 07:03:51   \n",
       "4293 2016-01-09 01:46:23 2016-01-09 16:36:37 0 days 14:50:14   \n",
       "4698 2016-01-09 22:38:48                 NaT             NaT   \n",
       "\n",
       "                   Location Type  Incident Zip      City      Borough  \\\n",
       "38    Residential Building/House           NaN       NaN  Unspecified   \n",
       "164              Street/Sidewalk           NaN       NaN  Unspecified   \n",
       "498   Residential Building/House           NaN       NaN  Unspecified   \n",
       "550   Residential Building/House           NaN       NaN  Unspecified   \n",
       "579              Street/Sidewalk           NaN       NaN  Unspecified   \n",
       "741   Residential Building/House           NaN       NaN  Unspecified   \n",
       "1087  Residential Building/House       10009.0  NEW YORK    MANHATTAN   \n",
       "1794            Store/Commercial           NaN       NaN  Unspecified   \n",
       "1910  Residential Building/House           NaN       NaN  Unspecified   \n",
       "2307  Residential Building/House           NaN       NaN  Unspecified   \n",
       "2362  Residential Building/House           NaN       NaN  Unspecified   \n",
       "2802             Street/Sidewalk           NaN       NaN  Unspecified   \n",
       "3271             Street/Sidewalk           NaN       NaN  Unspecified   \n",
       "3473             Street/Sidewalk           NaN       NaN  Unspecified   \n",
       "3487            Store/Commercial           NaN       NaN  Unspecified   \n",
       "3654             Street/Sidewalk           NaN       NaN  Unspecified   \n",
       "3845  Residential Building/House           NaN       NaN  Unspecified   \n",
       "4182         Club/Bar/Restaurant       10471.0     BRONX        BRONX   \n",
       "4293  Residential Building/House           NaN       NaN  Unspecified   \n",
       "4698  Residential Building/House           NaN       NaN  Unspecified   \n",
       "\n",
       "      Latitude  Longitude  \n",
       "38         NaN        NaN  \n",
       "164        NaN        NaN  \n",
       "498        NaN        NaN  \n",
       "550        NaN        NaN  \n",
       "579        NaN        NaN  \n",
       "741        NaN        NaN  \n",
       "1087       NaN        NaN  \n",
       "1794       NaN        NaN  \n",
       "1910       NaN        NaN  \n",
       "2307       NaN        NaN  \n",
       "2362       NaN        NaN  \n",
       "2802       NaN        NaN  \n",
       "3271       NaN        NaN  \n",
       "3473       NaN        NaN  \n",
       "3487       NaN        NaN  \n",
       "3654       NaN        NaN  \n",
       "3845       NaN        NaN  \n",
       "4182       NaN        NaN  \n",
       "4293       NaN        NaN  \n",
       "4698       NaN        NaN  "
      ]
     },
     "execution_count": 20,
     "metadata": {},
     "output_type": "execute_result"
    }
   ],
   "source": [
    "nyc_parties_missing.head(20)"
   ]
  },
  {
   "cell_type": "code",
   "execution_count": 21,
   "metadata": {},
   "outputs": [
    {
     "data": {
      "text/html": [
       "<div>\n",
       "<style scoped>\n",
       "    .dataframe tbody tr th:only-of-type {\n",
       "        vertical-align: middle;\n",
       "    }\n",
       "\n",
       "    .dataframe tbody tr th {\n",
       "        vertical-align: top;\n",
       "    }\n",
       "\n",
       "    .dataframe thead th {\n",
       "        text-align: right;\n",
       "    }\n",
       "</style>\n",
       "<table border=\"1\" class=\"dataframe\">\n",
       "  <thead>\n",
       "    <tr style=\"text-align: right;\">\n",
       "      <th></th>\n",
       "      <th>Created Date</th>\n",
       "      <th>Closed Date</th>\n",
       "      <th>Party Duration</th>\n",
       "      <th>Location Type</th>\n",
       "      <th>Incident Zip</th>\n",
       "      <th>City</th>\n",
       "      <th>Borough</th>\n",
       "      <th>Latitude</th>\n",
       "      <th>Longitude</th>\n",
       "    </tr>\n",
       "  </thead>\n",
       "  <tbody>\n",
       "    <tr>\n",
       "      <th>220367</th>\n",
       "      <td>2016-12-22 17:17:51</td>\n",
       "      <td>NaT</td>\n",
       "      <td>NaT</td>\n",
       "      <td>Residential Building/House</td>\n",
       "      <td>NaN</td>\n",
       "      <td>NaN</td>\n",
       "      <td>Unspecified</td>\n",
       "      <td>NaN</td>\n",
       "      <td>NaN</td>\n",
       "    </tr>\n",
       "    <tr>\n",
       "      <th>220395</th>\n",
       "      <td>2016-12-22 20:24:27</td>\n",
       "      <td>NaT</td>\n",
       "      <td>NaT</td>\n",
       "      <td>Residential Building/House</td>\n",
       "      <td>NaN</td>\n",
       "      <td>NaN</td>\n",
       "      <td>Unspecified</td>\n",
       "      <td>NaN</td>\n",
       "      <td>NaN</td>\n",
       "    </tr>\n",
       "    <tr>\n",
       "      <th>220479</th>\n",
       "      <td>2016-12-22 22:58:57</td>\n",
       "      <td>NaT</td>\n",
       "      <td>NaT</td>\n",
       "      <td>Store/Commercial</td>\n",
       "      <td>NaN</td>\n",
       "      <td>NaN</td>\n",
       "      <td>Unspecified</td>\n",
       "      <td>NaN</td>\n",
       "      <td>NaN</td>\n",
       "    </tr>\n",
       "    <tr>\n",
       "      <th>221046</th>\n",
       "      <td>2016-12-24 00:50:12</td>\n",
       "      <td>NaT</td>\n",
       "      <td>NaT</td>\n",
       "      <td>Street/Sidewalk</td>\n",
       "      <td>NaN</td>\n",
       "      <td>NaN</td>\n",
       "      <td>Unspecified</td>\n",
       "      <td>NaN</td>\n",
       "      <td>NaN</td>\n",
       "    </tr>\n",
       "    <tr>\n",
       "      <th>221079</th>\n",
       "      <td>2016-12-24 01:26:18</td>\n",
       "      <td>NaT</td>\n",
       "      <td>NaT</td>\n",
       "      <td>Residential Building/House</td>\n",
       "      <td>NaN</td>\n",
       "      <td>NaN</td>\n",
       "      <td>Unspecified</td>\n",
       "      <td>NaN</td>\n",
       "      <td>NaN</td>\n",
       "    </tr>\n",
       "    <tr>\n",
       "      <th>221387</th>\n",
       "      <td>2016-12-24 20:10:09</td>\n",
       "      <td>NaT</td>\n",
       "      <td>NaT</td>\n",
       "      <td>Residential Building/House</td>\n",
       "      <td>NaN</td>\n",
       "      <td>NaN</td>\n",
       "      <td>Unspecified</td>\n",
       "      <td>NaN</td>\n",
       "      <td>NaN</td>\n",
       "    </tr>\n",
       "    <tr>\n",
       "      <th>221388</th>\n",
       "      <td>2016-12-24 20:13:07</td>\n",
       "      <td>2016-12-24 20:48:56</td>\n",
       "      <td>0 days 00:35:49</td>\n",
       "      <td>Residential Building/House</td>\n",
       "      <td>10019.0</td>\n",
       "      <td>NEW YORK</td>\n",
       "      <td>MANHATTAN</td>\n",
       "      <td>NaN</td>\n",
       "      <td>NaN</td>\n",
       "    </tr>\n",
       "    <tr>\n",
       "      <th>222109</th>\n",
       "      <td>2016-12-25 02:13:24</td>\n",
       "      <td>NaT</td>\n",
       "      <td>NaT</td>\n",
       "      <td>Residential Building/House</td>\n",
       "      <td>NaN</td>\n",
       "      <td>NaN</td>\n",
       "      <td>Unspecified</td>\n",
       "      <td>NaN</td>\n",
       "      <td>NaN</td>\n",
       "    </tr>\n",
       "    <tr>\n",
       "      <th>222445</th>\n",
       "      <td>2016-12-25 08:30:27</td>\n",
       "      <td>NaT</td>\n",
       "      <td>NaT</td>\n",
       "      <td>Residential Building/House</td>\n",
       "      <td>NaN</td>\n",
       "      <td>NaN</td>\n",
       "      <td>Unspecified</td>\n",
       "      <td>NaN</td>\n",
       "      <td>NaN</td>\n",
       "    </tr>\n",
       "    <tr>\n",
       "      <th>222958</th>\n",
       "      <td>2016-12-26 16:31:23</td>\n",
       "      <td>2016-12-26 17:20:39</td>\n",
       "      <td>0 days 00:49:16</td>\n",
       "      <td>Store/Commercial</td>\n",
       "      <td>10029.0</td>\n",
       "      <td>NEW YORK</td>\n",
       "      <td>MANHATTAN</td>\n",
       "      <td>NaN</td>\n",
       "      <td>NaN</td>\n",
       "    </tr>\n",
       "    <tr>\n",
       "      <th>223296</th>\n",
       "      <td>2016-12-27 20:15:47</td>\n",
       "      <td>2016-12-28 09:52:05</td>\n",
       "      <td>0 days 13:36:18</td>\n",
       "      <td>Residential Building/House</td>\n",
       "      <td>NaN</td>\n",
       "      <td>NaN</td>\n",
       "      <td>Unspecified</td>\n",
       "      <td>NaN</td>\n",
       "      <td>NaN</td>\n",
       "    </tr>\n",
       "    <tr>\n",
       "      <th>223545</th>\n",
       "      <td>2016-12-28 13:37:29</td>\n",
       "      <td>2016-12-29 04:10:33</td>\n",
       "      <td>0 days 14:33:04</td>\n",
       "      <td>Street/Sidewalk</td>\n",
       "      <td>NaN</td>\n",
       "      <td>NaN</td>\n",
       "      <td>Unspecified</td>\n",
       "      <td>NaN</td>\n",
       "      <td>NaN</td>\n",
       "    </tr>\n",
       "    <tr>\n",
       "      <th>223577</th>\n",
       "      <td>2016-12-28 18:48:02</td>\n",
       "      <td>2016-12-28 21:36:20</td>\n",
       "      <td>0 days 02:48:18</td>\n",
       "      <td>Street/Sidewalk</td>\n",
       "      <td>10027.0</td>\n",
       "      <td>NEW YORK</td>\n",
       "      <td>MANHATTAN</td>\n",
       "      <td>NaN</td>\n",
       "      <td>NaN</td>\n",
       "    </tr>\n",
       "    <tr>\n",
       "      <th>223682</th>\n",
       "      <td>2016-12-28 20:18:05</td>\n",
       "      <td>2016-12-29 15:09:48</td>\n",
       "      <td>0 days 18:51:43</td>\n",
       "      <td>Residential Building/House</td>\n",
       "      <td>NaN</td>\n",
       "      <td>NaN</td>\n",
       "      <td>Unspecified</td>\n",
       "      <td>NaN</td>\n",
       "      <td>NaN</td>\n",
       "    </tr>\n",
       "    <tr>\n",
       "      <th>223725</th>\n",
       "      <td>2016-12-28 22:08:24</td>\n",
       "      <td>2016-12-29 09:18:02</td>\n",
       "      <td>0 days 11:09:38</td>\n",
       "      <td>Residential Building/House</td>\n",
       "      <td>NaN</td>\n",
       "      <td>NaN</td>\n",
       "      <td>Unspecified</td>\n",
       "      <td>NaN</td>\n",
       "      <td>NaN</td>\n",
       "    </tr>\n",
       "    <tr>\n",
       "      <th>223916</th>\n",
       "      <td>2016-12-29 17:24:09</td>\n",
       "      <td>2016-12-29 22:55:03</td>\n",
       "      <td>0 days 05:30:54</td>\n",
       "      <td>Street/Sidewalk</td>\n",
       "      <td>NaN</td>\n",
       "      <td>NaN</td>\n",
       "      <td>MANHATTAN</td>\n",
       "      <td>40.744032</td>\n",
       "      <td>-73.970888</td>\n",
       "    </tr>\n",
       "    <tr>\n",
       "      <th>224322</th>\n",
       "      <td>2016-12-30 12:54:15</td>\n",
       "      <td>NaT</td>\n",
       "      <td>NaT</td>\n",
       "      <td>Residential Building/House</td>\n",
       "      <td>NaN</td>\n",
       "      <td>NaN</td>\n",
       "      <td>Unspecified</td>\n",
       "      <td>NaN</td>\n",
       "      <td>NaN</td>\n",
       "    </tr>\n",
       "    <tr>\n",
       "      <th>224791</th>\n",
       "      <td>2016-12-31 00:36:48</td>\n",
       "      <td>2016-12-31 01:45:16</td>\n",
       "      <td>0 days 01:08:28</td>\n",
       "      <td>Club/Bar/Restaurant</td>\n",
       "      <td>10036.0</td>\n",
       "      <td>NEW YORK</td>\n",
       "      <td>MANHATTAN</td>\n",
       "      <td>NaN</td>\n",
       "      <td>NaN</td>\n",
       "    </tr>\n",
       "    <tr>\n",
       "      <th>225019</th>\n",
       "      <td>2016-12-31 11:12:05</td>\n",
       "      <td>NaT</td>\n",
       "      <td>NaT</td>\n",
       "      <td>Store/Commercial</td>\n",
       "      <td>10456.0</td>\n",
       "      <td>BRONX</td>\n",
       "      <td>BRONX</td>\n",
       "      <td>40.836789</td>\n",
       "      <td>-73.909259</td>\n",
       "    </tr>\n",
       "    <tr>\n",
       "      <th>225156</th>\n",
       "      <td>2016-12-31 18:54:12</td>\n",
       "      <td>2016-12-31 20:46:31</td>\n",
       "      <td>0 days 01:52:19</td>\n",
       "      <td>Street/Sidewalk</td>\n",
       "      <td>10037.0</td>\n",
       "      <td>NEW YORK</td>\n",
       "      <td>MANHATTAN</td>\n",
       "      <td>NaN</td>\n",
       "      <td>NaN</td>\n",
       "    </tr>\n",
       "  </tbody>\n",
       "</table>\n",
       "</div>"
      ],
      "text/plain": [
       "              Created Date         Closed Date  Party Duration  \\\n",
       "220367 2016-12-22 17:17:51                 NaT             NaT   \n",
       "220395 2016-12-22 20:24:27                 NaT             NaT   \n",
       "220479 2016-12-22 22:58:57                 NaT             NaT   \n",
       "221046 2016-12-24 00:50:12                 NaT             NaT   \n",
       "221079 2016-12-24 01:26:18                 NaT             NaT   \n",
       "221387 2016-12-24 20:10:09                 NaT             NaT   \n",
       "221388 2016-12-24 20:13:07 2016-12-24 20:48:56 0 days 00:35:49   \n",
       "222109 2016-12-25 02:13:24                 NaT             NaT   \n",
       "222445 2016-12-25 08:30:27                 NaT             NaT   \n",
       "222958 2016-12-26 16:31:23 2016-12-26 17:20:39 0 days 00:49:16   \n",
       "223296 2016-12-27 20:15:47 2016-12-28 09:52:05 0 days 13:36:18   \n",
       "223545 2016-12-28 13:37:29 2016-12-29 04:10:33 0 days 14:33:04   \n",
       "223577 2016-12-28 18:48:02 2016-12-28 21:36:20 0 days 02:48:18   \n",
       "223682 2016-12-28 20:18:05 2016-12-29 15:09:48 0 days 18:51:43   \n",
       "223725 2016-12-28 22:08:24 2016-12-29 09:18:02 0 days 11:09:38   \n",
       "223916 2016-12-29 17:24:09 2016-12-29 22:55:03 0 days 05:30:54   \n",
       "224322 2016-12-30 12:54:15                 NaT             NaT   \n",
       "224791 2016-12-31 00:36:48 2016-12-31 01:45:16 0 days 01:08:28   \n",
       "225019 2016-12-31 11:12:05                 NaT             NaT   \n",
       "225156 2016-12-31 18:54:12 2016-12-31 20:46:31 0 days 01:52:19   \n",
       "\n",
       "                     Location Type  Incident Zip      City      Borough  \\\n",
       "220367  Residential Building/House           NaN       NaN  Unspecified   \n",
       "220395  Residential Building/House           NaN       NaN  Unspecified   \n",
       "220479            Store/Commercial           NaN       NaN  Unspecified   \n",
       "221046             Street/Sidewalk           NaN       NaN  Unspecified   \n",
       "221079  Residential Building/House           NaN       NaN  Unspecified   \n",
       "221387  Residential Building/House           NaN       NaN  Unspecified   \n",
       "221388  Residential Building/House       10019.0  NEW YORK    MANHATTAN   \n",
       "222109  Residential Building/House           NaN       NaN  Unspecified   \n",
       "222445  Residential Building/House           NaN       NaN  Unspecified   \n",
       "222958            Store/Commercial       10029.0  NEW YORK    MANHATTAN   \n",
       "223296  Residential Building/House           NaN       NaN  Unspecified   \n",
       "223545             Street/Sidewalk           NaN       NaN  Unspecified   \n",
       "223577             Street/Sidewalk       10027.0  NEW YORK    MANHATTAN   \n",
       "223682  Residential Building/House           NaN       NaN  Unspecified   \n",
       "223725  Residential Building/House           NaN       NaN  Unspecified   \n",
       "223916             Street/Sidewalk           NaN       NaN    MANHATTAN   \n",
       "224322  Residential Building/House           NaN       NaN  Unspecified   \n",
       "224791         Club/Bar/Restaurant       10036.0  NEW YORK    MANHATTAN   \n",
       "225019            Store/Commercial       10456.0     BRONX        BRONX   \n",
       "225156             Street/Sidewalk       10037.0  NEW YORK    MANHATTAN   \n",
       "\n",
       "         Latitude  Longitude  \n",
       "220367        NaN        NaN  \n",
       "220395        NaN        NaN  \n",
       "220479        NaN        NaN  \n",
       "221046        NaN        NaN  \n",
       "221079        NaN        NaN  \n",
       "221387        NaN        NaN  \n",
       "221388        NaN        NaN  \n",
       "222109        NaN        NaN  \n",
       "222445        NaN        NaN  \n",
       "222958        NaN        NaN  \n",
       "223296        NaN        NaN  \n",
       "223545        NaN        NaN  \n",
       "223577        NaN        NaN  \n",
       "223682        NaN        NaN  \n",
       "223725        NaN        NaN  \n",
       "223916  40.744032 -73.970888  \n",
       "224322        NaN        NaN  \n",
       "224791        NaN        NaN  \n",
       "225019  40.836789 -73.909259  \n",
       "225156        NaN        NaN  "
      ]
     },
     "execution_count": 21,
     "metadata": {},
     "output_type": "execute_result"
    }
   ],
   "source": [
    "nyc_parties_missing.tail(20)"
   ]
  },
  {
   "cell_type": "code",
   "execution_count": 22,
   "metadata": {},
   "outputs": [
    {
     "data": {
      "text/plain": [
       "Created Date         0\n",
       "Closed Date        795\n",
       "Party Duration     795\n",
       "Location Type        0\n",
       "Incident Zip       987\n",
       "City               987\n",
       "Borough              0\n",
       "Latitude          1465\n",
       "Longitude         1465\n",
       "dtype: int64"
      ]
     },
     "execution_count": 22,
     "metadata": {},
     "output_type": "execute_result"
    }
   ],
   "source": [
    "nyc_parties_missing.isnull().sum()"
   ]
  },
  {
   "cell_type": "code",
   "execution_count": 23,
   "metadata": {},
   "outputs": [
    {
     "data": {
      "text/plain": [
       "488"
      ]
     },
     "execution_count": 23,
     "metadata": {},
     "output_type": "execute_result"
    }
   ],
   "source": [
    "nyc_parties_missing = nyc_parties_missing.dropna(subset = ['Party Duration', 'Incident Zip', 'City'])\n",
    "len(nyc_parties_missing)"
   ]
  },
  {
   "cell_type": "code",
   "execution_count": 24,
   "metadata": {},
   "outputs": [
    {
     "data": {
      "text/html": [
       "<div>\n",
       "<style scoped>\n",
       "    .dataframe tbody tr th:only-of-type {\n",
       "        vertical-align: middle;\n",
       "    }\n",
       "\n",
       "    .dataframe tbody tr th {\n",
       "        vertical-align: top;\n",
       "    }\n",
       "\n",
       "    .dataframe thead th {\n",
       "        text-align: right;\n",
       "    }\n",
       "</style>\n",
       "<table border=\"1\" class=\"dataframe\">\n",
       "  <thead>\n",
       "    <tr style=\"text-align: right;\">\n",
       "      <th></th>\n",
       "      <th>Created Date</th>\n",
       "      <th>Closed Date</th>\n",
       "      <th>Party Duration</th>\n",
       "      <th>Location Type</th>\n",
       "      <th>Incident Zip</th>\n",
       "      <th>City</th>\n",
       "      <th>Borough</th>\n",
       "      <th>Latitude</th>\n",
       "      <th>Longitude</th>\n",
       "    </tr>\n",
       "  </thead>\n",
       "  <tbody>\n",
       "    <tr>\n",
       "      <th>1087</th>\n",
       "      <td>2016-01-01 03:14:51</td>\n",
       "      <td>2016-01-01 07:19:41</td>\n",
       "      <td>0 days 04:04:50</td>\n",
       "      <td>Residential Building/House</td>\n",
       "      <td>10009.0</td>\n",
       "      <td>NEW YORK</td>\n",
       "      <td>MANHATTAN</td>\n",
       "      <td>NaN</td>\n",
       "      <td>NaN</td>\n",
       "    </tr>\n",
       "    <tr>\n",
       "      <th>4182</th>\n",
       "      <td>2016-01-09 00:12:04</td>\n",
       "      <td>2016-01-09 07:15:55</td>\n",
       "      <td>0 days 07:03:51</td>\n",
       "      <td>Club/Bar/Restaurant</td>\n",
       "      <td>10471.0</td>\n",
       "      <td>BRONX</td>\n",
       "      <td>BRONX</td>\n",
       "      <td>NaN</td>\n",
       "      <td>NaN</td>\n",
       "    </tr>\n",
       "    <tr>\n",
       "      <th>5177</th>\n",
       "      <td>2016-01-10 02:45:17</td>\n",
       "      <td>2016-01-10 16:00:45</td>\n",
       "      <td>0 days 13:15:28</td>\n",
       "      <td>Residential Building/House</td>\n",
       "      <td>10456.0</td>\n",
       "      <td>BRONX</td>\n",
       "      <td>BRONX</td>\n",
       "      <td>NaN</td>\n",
       "      <td>NaN</td>\n",
       "    </tr>\n",
       "    <tr>\n",
       "      <th>6301</th>\n",
       "      <td>2016-01-15 08:28:41</td>\n",
       "      <td>2016-01-15 11:18:16</td>\n",
       "      <td>0 days 02:49:35</td>\n",
       "      <td>Residential Building/House</td>\n",
       "      <td>10024.0</td>\n",
       "      <td>NEW YORK</td>\n",
       "      <td>MANHATTAN</td>\n",
       "      <td>NaN</td>\n",
       "      <td>NaN</td>\n",
       "    </tr>\n",
       "    <tr>\n",
       "      <th>6584</th>\n",
       "      <td>2016-01-15 23:46:36</td>\n",
       "      <td>2016-01-15 23:53:02</td>\n",
       "      <td>0 days 00:06:26</td>\n",
       "      <td>Street/Sidewalk</td>\n",
       "      <td>10026.0</td>\n",
       "      <td>NEW YORK</td>\n",
       "      <td>MANHATTAN</td>\n",
       "      <td>NaN</td>\n",
       "      <td>NaN</td>\n",
       "    </tr>\n",
       "    <tr>\n",
       "      <th>11571</th>\n",
       "      <td>2016-01-30 15:20:32</td>\n",
       "      <td>2016-01-30 15:29:05</td>\n",
       "      <td>0 days 00:08:33</td>\n",
       "      <td>Street/Sidewalk</td>\n",
       "      <td>11236.0</td>\n",
       "      <td>BROOKLYN</td>\n",
       "      <td>BROOKLYN</td>\n",
       "      <td>NaN</td>\n",
       "      <td>NaN</td>\n",
       "    </tr>\n",
       "    <tr>\n",
       "      <th>11587</th>\n",
       "      <td>2016-01-30 15:55:17</td>\n",
       "      <td>2016-01-30 16:05:08</td>\n",
       "      <td>0 days 00:09:51</td>\n",
       "      <td>Street/Sidewalk</td>\n",
       "      <td>10027.0</td>\n",
       "      <td>NEW YORK</td>\n",
       "      <td>MANHATTAN</td>\n",
       "      <td>NaN</td>\n",
       "      <td>NaN</td>\n",
       "    </tr>\n",
       "    <tr>\n",
       "      <th>12669</th>\n",
       "      <td>2016-01-31 22:55:41</td>\n",
       "      <td>2016-02-01 00:29:11</td>\n",
       "      <td>0 days 01:33:30</td>\n",
       "      <td>Street/Sidewalk</td>\n",
       "      <td>10002.0</td>\n",
       "      <td>NEW YORK</td>\n",
       "      <td>MANHATTAN</td>\n",
       "      <td>NaN</td>\n",
       "      <td>NaN</td>\n",
       "    </tr>\n",
       "    <tr>\n",
       "      <th>14129</th>\n",
       "      <td>2016-02-06 00:56:33</td>\n",
       "      <td>2016-02-06 04:08:19</td>\n",
       "      <td>0 days 03:11:46</td>\n",
       "      <td>Residential Building/House</td>\n",
       "      <td>10027.0</td>\n",
       "      <td>NEW YORK</td>\n",
       "      <td>MANHATTAN</td>\n",
       "      <td>NaN</td>\n",
       "      <td>NaN</td>\n",
       "    </tr>\n",
       "    <tr>\n",
       "      <th>18624</th>\n",
       "      <td>2016-02-17 18:17:20</td>\n",
       "      <td>2016-02-17 21:55:18</td>\n",
       "      <td>0 days 03:37:58</td>\n",
       "      <td>Street/Sidewalk</td>\n",
       "      <td>11208.0</td>\n",
       "      <td>BROOKLYN</td>\n",
       "      <td>BROOKLYN</td>\n",
       "      <td>NaN</td>\n",
       "      <td>NaN</td>\n",
       "    </tr>\n",
       "    <tr>\n",
       "      <th>18777</th>\n",
       "      <td>2016-02-18 00:50:03</td>\n",
       "      <td>2016-02-18 05:14:19</td>\n",
       "      <td>0 days 04:24:16</td>\n",
       "      <td>Residential Building/House</td>\n",
       "      <td>11229.0</td>\n",
       "      <td>BROOKLYN</td>\n",
       "      <td>BROOKLYN</td>\n",
       "      <td>NaN</td>\n",
       "      <td>NaN</td>\n",
       "    </tr>\n",
       "    <tr>\n",
       "      <th>20129</th>\n",
       "      <td>2016-02-21 00:18:29</td>\n",
       "      <td>2016-02-21 01:50:31</td>\n",
       "      <td>0 days 01:32:02</td>\n",
       "      <td>Club/Bar/Restaurant</td>\n",
       "      <td>11433.0</td>\n",
       "      <td>JAMAICA</td>\n",
       "      <td>QUEENS</td>\n",
       "      <td>NaN</td>\n",
       "      <td>NaN</td>\n",
       "    </tr>\n",
       "    <tr>\n",
       "      <th>21115</th>\n",
       "      <td>2016-02-22 23:43:15</td>\n",
       "      <td>2016-02-23 01:20:06</td>\n",
       "      <td>0 days 01:36:51</td>\n",
       "      <td>Residential Building/House</td>\n",
       "      <td>10009.0</td>\n",
       "      <td>NEW YORK</td>\n",
       "      <td>MANHATTAN</td>\n",
       "      <td>NaN</td>\n",
       "      <td>NaN</td>\n",
       "    </tr>\n",
       "    <tr>\n",
       "      <th>22977</th>\n",
       "      <td>2016-02-28 01:38:38</td>\n",
       "      <td>2016-02-28 05:11:10</td>\n",
       "      <td>0 days 03:32:32</td>\n",
       "      <td>Club/Bar/Restaurant</td>\n",
       "      <td>10002.0</td>\n",
       "      <td>NEW YORK</td>\n",
       "      <td>MANHATTAN</td>\n",
       "      <td>NaN</td>\n",
       "      <td>NaN</td>\n",
       "    </tr>\n",
       "    <tr>\n",
       "      <th>24196</th>\n",
       "      <td>2016-03-03 20:04:44</td>\n",
       "      <td>2016-03-03 21:33:07</td>\n",
       "      <td>0 days 01:28:23</td>\n",
       "      <td>Street/Sidewalk</td>\n",
       "      <td>10030.0</td>\n",
       "      <td>NEW YORK</td>\n",
       "      <td>MANHATTAN</td>\n",
       "      <td>NaN</td>\n",
       "      <td>NaN</td>\n",
       "    </tr>\n",
       "    <tr>\n",
       "      <th>24629</th>\n",
       "      <td>2016-03-05 00:09:01</td>\n",
       "      <td>2016-03-05 02:54:59</td>\n",
       "      <td>0 days 02:45:58</td>\n",
       "      <td>Residential Building/House</td>\n",
       "      <td>10304.0</td>\n",
       "      <td>STATEN ISLAND</td>\n",
       "      <td>STATEN ISLAND</td>\n",
       "      <td>NaN</td>\n",
       "      <td>NaN</td>\n",
       "    </tr>\n",
       "    <tr>\n",
       "      <th>26319</th>\n",
       "      <td>2016-03-07 22:04:37</td>\n",
       "      <td>2016-03-08 01:36:16</td>\n",
       "      <td>0 days 03:31:39</td>\n",
       "      <td>Street/Sidewalk</td>\n",
       "      <td>10465.0</td>\n",
       "      <td>BRONX</td>\n",
       "      <td>BRONX</td>\n",
       "      <td>NaN</td>\n",
       "      <td>NaN</td>\n",
       "    </tr>\n",
       "    <tr>\n",
       "      <th>27009</th>\n",
       "      <td>2016-03-09 23:09:50</td>\n",
       "      <td>2016-03-10 03:51:47</td>\n",
       "      <td>0 days 04:41:57</td>\n",
       "      <td>Residential Building/House</td>\n",
       "      <td>10026.0</td>\n",
       "      <td>NEW YORK</td>\n",
       "      <td>MANHATTAN</td>\n",
       "      <td>NaN</td>\n",
       "      <td>NaN</td>\n",
       "    </tr>\n",
       "    <tr>\n",
       "      <th>27752</th>\n",
       "      <td>2016-03-11 18:07:37</td>\n",
       "      <td>2016-03-11 20:29:03</td>\n",
       "      <td>0 days 02:21:26</td>\n",
       "      <td>Street/Sidewalk</td>\n",
       "      <td>10029.0</td>\n",
       "      <td>NEW YORK</td>\n",
       "      <td>MANHATTAN</td>\n",
       "      <td>NaN</td>\n",
       "      <td>NaN</td>\n",
       "    </tr>\n",
       "    <tr>\n",
       "      <th>28455</th>\n",
       "      <td>2016-03-12 14:57:55</td>\n",
       "      <td>2016-03-12 18:01:03</td>\n",
       "      <td>0 days 03:03:08</td>\n",
       "      <td>Street/Sidewalk</td>\n",
       "      <td>11216.0</td>\n",
       "      <td>BROOKLYN</td>\n",
       "      <td>BROOKLYN</td>\n",
       "      <td>NaN</td>\n",
       "      <td>NaN</td>\n",
       "    </tr>\n",
       "  </tbody>\n",
       "</table>\n",
       "</div>"
      ],
      "text/plain": [
       "             Created Date         Closed Date  Party Duration  \\\n",
       "1087  2016-01-01 03:14:51 2016-01-01 07:19:41 0 days 04:04:50   \n",
       "4182  2016-01-09 00:12:04 2016-01-09 07:15:55 0 days 07:03:51   \n",
       "5177  2016-01-10 02:45:17 2016-01-10 16:00:45 0 days 13:15:28   \n",
       "6301  2016-01-15 08:28:41 2016-01-15 11:18:16 0 days 02:49:35   \n",
       "6584  2016-01-15 23:46:36 2016-01-15 23:53:02 0 days 00:06:26   \n",
       "11571 2016-01-30 15:20:32 2016-01-30 15:29:05 0 days 00:08:33   \n",
       "11587 2016-01-30 15:55:17 2016-01-30 16:05:08 0 days 00:09:51   \n",
       "12669 2016-01-31 22:55:41 2016-02-01 00:29:11 0 days 01:33:30   \n",
       "14129 2016-02-06 00:56:33 2016-02-06 04:08:19 0 days 03:11:46   \n",
       "18624 2016-02-17 18:17:20 2016-02-17 21:55:18 0 days 03:37:58   \n",
       "18777 2016-02-18 00:50:03 2016-02-18 05:14:19 0 days 04:24:16   \n",
       "20129 2016-02-21 00:18:29 2016-02-21 01:50:31 0 days 01:32:02   \n",
       "21115 2016-02-22 23:43:15 2016-02-23 01:20:06 0 days 01:36:51   \n",
       "22977 2016-02-28 01:38:38 2016-02-28 05:11:10 0 days 03:32:32   \n",
       "24196 2016-03-03 20:04:44 2016-03-03 21:33:07 0 days 01:28:23   \n",
       "24629 2016-03-05 00:09:01 2016-03-05 02:54:59 0 days 02:45:58   \n",
       "26319 2016-03-07 22:04:37 2016-03-08 01:36:16 0 days 03:31:39   \n",
       "27009 2016-03-09 23:09:50 2016-03-10 03:51:47 0 days 04:41:57   \n",
       "27752 2016-03-11 18:07:37 2016-03-11 20:29:03 0 days 02:21:26   \n",
       "28455 2016-03-12 14:57:55 2016-03-12 18:01:03 0 days 03:03:08   \n",
       "\n",
       "                    Location Type  Incident Zip           City        Borough  \\\n",
       "1087   Residential Building/House       10009.0       NEW YORK      MANHATTAN   \n",
       "4182          Club/Bar/Restaurant       10471.0          BRONX          BRONX   \n",
       "5177   Residential Building/House       10456.0          BRONX          BRONX   \n",
       "6301   Residential Building/House       10024.0       NEW YORK      MANHATTAN   \n",
       "6584              Street/Sidewalk       10026.0       NEW YORK      MANHATTAN   \n",
       "11571             Street/Sidewalk       11236.0       BROOKLYN       BROOKLYN   \n",
       "11587             Street/Sidewalk       10027.0       NEW YORK      MANHATTAN   \n",
       "12669             Street/Sidewalk       10002.0       NEW YORK      MANHATTAN   \n",
       "14129  Residential Building/House       10027.0       NEW YORK      MANHATTAN   \n",
       "18624             Street/Sidewalk       11208.0       BROOKLYN       BROOKLYN   \n",
       "18777  Residential Building/House       11229.0       BROOKLYN       BROOKLYN   \n",
       "20129         Club/Bar/Restaurant       11433.0        JAMAICA         QUEENS   \n",
       "21115  Residential Building/House       10009.0       NEW YORK      MANHATTAN   \n",
       "22977         Club/Bar/Restaurant       10002.0       NEW YORK      MANHATTAN   \n",
       "24196             Street/Sidewalk       10030.0       NEW YORK      MANHATTAN   \n",
       "24629  Residential Building/House       10304.0  STATEN ISLAND  STATEN ISLAND   \n",
       "26319             Street/Sidewalk       10465.0          BRONX          BRONX   \n",
       "27009  Residential Building/House       10026.0       NEW YORK      MANHATTAN   \n",
       "27752             Street/Sidewalk       10029.0       NEW YORK      MANHATTAN   \n",
       "28455             Street/Sidewalk       11216.0       BROOKLYN       BROOKLYN   \n",
       "\n",
       "       Latitude  Longitude  \n",
       "1087        NaN        NaN  \n",
       "4182        NaN        NaN  \n",
       "5177        NaN        NaN  \n",
       "6301        NaN        NaN  \n",
       "6584        NaN        NaN  \n",
       "11571       NaN        NaN  \n",
       "11587       NaN        NaN  \n",
       "12669       NaN        NaN  \n",
       "14129       NaN        NaN  \n",
       "18624       NaN        NaN  \n",
       "18777       NaN        NaN  \n",
       "20129       NaN        NaN  \n",
       "21115       NaN        NaN  \n",
       "22977       NaN        NaN  \n",
       "24196       NaN        NaN  \n",
       "24629       NaN        NaN  \n",
       "26319       NaN        NaN  \n",
       "27009       NaN        NaN  \n",
       "27752       NaN        NaN  \n",
       "28455       NaN        NaN  "
      ]
     },
     "execution_count": 24,
     "metadata": {},
     "output_type": "execute_result"
    }
   ],
   "source": [
    "nyc_parties_missing.head(20)"
   ]
  },
  {
   "cell_type": "code",
   "execution_count": 25,
   "metadata": {},
   "outputs": [
    {
     "data": {
      "text/html": [
       "<div>\n",
       "<style scoped>\n",
       "    .dataframe tbody tr th:only-of-type {\n",
       "        vertical-align: middle;\n",
       "    }\n",
       "\n",
       "    .dataframe tbody tr th {\n",
       "        vertical-align: top;\n",
       "    }\n",
       "\n",
       "    .dataframe thead th {\n",
       "        text-align: right;\n",
       "    }\n",
       "</style>\n",
       "<table border=\"1\" class=\"dataframe\">\n",
       "  <thead>\n",
       "    <tr style=\"text-align: right;\">\n",
       "      <th></th>\n",
       "      <th>Created Date</th>\n",
       "      <th>Closed Date</th>\n",
       "      <th>Party Duration</th>\n",
       "      <th>Location Type</th>\n",
       "      <th>Incident Zip</th>\n",
       "      <th>City</th>\n",
       "      <th>Borough</th>\n",
       "      <th>Latitude</th>\n",
       "      <th>Longitude</th>\n",
       "    </tr>\n",
       "  </thead>\n",
       "  <tbody>\n",
       "    <tr>\n",
       "      <th>210048</th>\n",
       "      <td>2016-11-30 00:16:03</td>\n",
       "      <td>2016-11-30 01:38:21</td>\n",
       "      <td>0 days 01:22:18</td>\n",
       "      <td>Residential Building/House</td>\n",
       "      <td>10027.0</td>\n",
       "      <td>NEW YORK</td>\n",
       "      <td>MANHATTAN</td>\n",
       "      <td>NaN</td>\n",
       "      <td>NaN</td>\n",
       "    </tr>\n",
       "    <tr>\n",
       "      <th>210482</th>\n",
       "      <td>2016-12-01 23:19:42</td>\n",
       "      <td>2016-12-02 05:46:51</td>\n",
       "      <td>0 days 06:27:09</td>\n",
       "      <td>Store/Commercial</td>\n",
       "      <td>10036.0</td>\n",
       "      <td>NEW YORK</td>\n",
       "      <td>MANHATTAN</td>\n",
       "      <td>NaN</td>\n",
       "      <td>NaN</td>\n",
       "    </tr>\n",
       "    <tr>\n",
       "      <th>210769</th>\n",
       "      <td>2016-12-02 21:58:56</td>\n",
       "      <td>2016-12-03 04:21:47</td>\n",
       "      <td>0 days 06:22:51</td>\n",
       "      <td>Residential Building/House</td>\n",
       "      <td>10026.0</td>\n",
       "      <td>NEW YORK</td>\n",
       "      <td>MANHATTAN</td>\n",
       "      <td>NaN</td>\n",
       "      <td>NaN</td>\n",
       "    </tr>\n",
       "    <tr>\n",
       "      <th>210800</th>\n",
       "      <td>2016-12-02 22:22:47</td>\n",
       "      <td>2016-12-02 23:04:07</td>\n",
       "      <td>0 days 00:41:20</td>\n",
       "      <td>Residential Building/House</td>\n",
       "      <td>10039.0</td>\n",
       "      <td>NEW YORK</td>\n",
       "      <td>MANHATTAN</td>\n",
       "      <td>NaN</td>\n",
       "      <td>NaN</td>\n",
       "    </tr>\n",
       "    <tr>\n",
       "      <th>210956</th>\n",
       "      <td>2016-12-02 23:43:15</td>\n",
       "      <td>2016-12-03 01:00:37</td>\n",
       "      <td>0 days 01:17:22</td>\n",
       "      <td>Street/Sidewalk</td>\n",
       "      <td>10029.0</td>\n",
       "      <td>NEW YORK</td>\n",
       "      <td>MANHATTAN</td>\n",
       "      <td>NaN</td>\n",
       "      <td>NaN</td>\n",
       "    </tr>\n",
       "    <tr>\n",
       "      <th>211066</th>\n",
       "      <td>2016-12-03 00:33:40</td>\n",
       "      <td>2016-12-03 04:50:26</td>\n",
       "      <td>0 days 04:16:46</td>\n",
       "      <td>Residential Building/House</td>\n",
       "      <td>10023.0</td>\n",
       "      <td>NEW YORK</td>\n",
       "      <td>MANHATTAN</td>\n",
       "      <td>NaN</td>\n",
       "      <td>NaN</td>\n",
       "    </tr>\n",
       "    <tr>\n",
       "      <th>211101</th>\n",
       "      <td>2016-12-03 00:47:06</td>\n",
       "      <td>2016-12-03 01:14:02</td>\n",
       "      <td>0 days 00:26:56</td>\n",
       "      <td>Street/Sidewalk</td>\n",
       "      <td>10029.0</td>\n",
       "      <td>NEW YORK</td>\n",
       "      <td>MANHATTAN</td>\n",
       "      <td>NaN</td>\n",
       "      <td>NaN</td>\n",
       "    </tr>\n",
       "    <tr>\n",
       "      <th>211224</th>\n",
       "      <td>2016-12-03 02:26:59</td>\n",
       "      <td>2016-12-03 05:15:57</td>\n",
       "      <td>0 days 02:48:58</td>\n",
       "      <td>Residential Building/House</td>\n",
       "      <td>10024.0</td>\n",
       "      <td>NEW YORK</td>\n",
       "      <td>MANHATTAN</td>\n",
       "      <td>NaN</td>\n",
       "      <td>NaN</td>\n",
       "    </tr>\n",
       "    <tr>\n",
       "      <th>211959</th>\n",
       "      <td>2016-12-04 00:19:04</td>\n",
       "      <td>2016-12-04 03:34:14</td>\n",
       "      <td>0 days 03:15:10</td>\n",
       "      <td>Residential Building/House</td>\n",
       "      <td>10009.0</td>\n",
       "      <td>NEW YORK</td>\n",
       "      <td>MANHATTAN</td>\n",
       "      <td>NaN</td>\n",
       "      <td>NaN</td>\n",
       "    </tr>\n",
       "    <tr>\n",
       "      <th>212243</th>\n",
       "      <td>2016-12-04 02:14:13</td>\n",
       "      <td>2016-12-04 03:36:33</td>\n",
       "      <td>0 days 01:22:20</td>\n",
       "      <td>Residential Building/House</td>\n",
       "      <td>10031.0</td>\n",
       "      <td>NEW YORK</td>\n",
       "      <td>MANHATTAN</td>\n",
       "      <td>NaN</td>\n",
       "      <td>NaN</td>\n",
       "    </tr>\n",
       "    <tr>\n",
       "      <th>215710</th>\n",
       "      <td>2016-12-11 08:26:45</td>\n",
       "      <td>2016-12-11 13:35:16</td>\n",
       "      <td>0 days 05:08:31</td>\n",
       "      <td>Street/Sidewalk</td>\n",
       "      <td>10014.0</td>\n",
       "      <td>NEW YORK</td>\n",
       "      <td>MANHATTAN</td>\n",
       "      <td>NaN</td>\n",
       "      <td>NaN</td>\n",
       "    </tr>\n",
       "    <tr>\n",
       "      <th>216079</th>\n",
       "      <td>2016-12-12 00:40:14</td>\n",
       "      <td>2016-12-12 06:10:39</td>\n",
       "      <td>0 days 05:30:25</td>\n",
       "      <td>Street/Sidewalk</td>\n",
       "      <td>10014.0</td>\n",
       "      <td>NEW YORK</td>\n",
       "      <td>MANHATTAN</td>\n",
       "      <td>NaN</td>\n",
       "      <td>NaN</td>\n",
       "    </tr>\n",
       "    <tr>\n",
       "      <th>216103</th>\n",
       "      <td>2016-12-12 01:21:29</td>\n",
       "      <td>2016-12-12 04:44:35</td>\n",
       "      <td>0 days 03:23:06</td>\n",
       "      <td>Street/Sidewalk</td>\n",
       "      <td>10014.0</td>\n",
       "      <td>NEW YORK</td>\n",
       "      <td>MANHATTAN</td>\n",
       "      <td>NaN</td>\n",
       "      <td>NaN</td>\n",
       "    </tr>\n",
       "    <tr>\n",
       "      <th>217310</th>\n",
       "      <td>2016-12-16 17:02:22</td>\n",
       "      <td>2016-12-17 14:48:35</td>\n",
       "      <td>0 days 21:46:13</td>\n",
       "      <td>Residential Building/House</td>\n",
       "      <td>10452.0</td>\n",
       "      <td>BRONX</td>\n",
       "      <td>BRONX</td>\n",
       "      <td>NaN</td>\n",
       "      <td>NaN</td>\n",
       "    </tr>\n",
       "    <tr>\n",
       "      <th>217850</th>\n",
       "      <td>2016-12-17 02:37:40</td>\n",
       "      <td>2016-12-17 03:27:24</td>\n",
       "      <td>0 days 00:49:44</td>\n",
       "      <td>Residential Building/House</td>\n",
       "      <td>10025.0</td>\n",
       "      <td>NEW YORK</td>\n",
       "      <td>MANHATTAN</td>\n",
       "      <td>NaN</td>\n",
       "      <td>NaN</td>\n",
       "    </tr>\n",
       "    <tr>\n",
       "      <th>221388</th>\n",
       "      <td>2016-12-24 20:13:07</td>\n",
       "      <td>2016-12-24 20:48:56</td>\n",
       "      <td>0 days 00:35:49</td>\n",
       "      <td>Residential Building/House</td>\n",
       "      <td>10019.0</td>\n",
       "      <td>NEW YORK</td>\n",
       "      <td>MANHATTAN</td>\n",
       "      <td>NaN</td>\n",
       "      <td>NaN</td>\n",
       "    </tr>\n",
       "    <tr>\n",
       "      <th>222958</th>\n",
       "      <td>2016-12-26 16:31:23</td>\n",
       "      <td>2016-12-26 17:20:39</td>\n",
       "      <td>0 days 00:49:16</td>\n",
       "      <td>Store/Commercial</td>\n",
       "      <td>10029.0</td>\n",
       "      <td>NEW YORK</td>\n",
       "      <td>MANHATTAN</td>\n",
       "      <td>NaN</td>\n",
       "      <td>NaN</td>\n",
       "    </tr>\n",
       "    <tr>\n",
       "      <th>223577</th>\n",
       "      <td>2016-12-28 18:48:02</td>\n",
       "      <td>2016-12-28 21:36:20</td>\n",
       "      <td>0 days 02:48:18</td>\n",
       "      <td>Street/Sidewalk</td>\n",
       "      <td>10027.0</td>\n",
       "      <td>NEW YORK</td>\n",
       "      <td>MANHATTAN</td>\n",
       "      <td>NaN</td>\n",
       "      <td>NaN</td>\n",
       "    </tr>\n",
       "    <tr>\n",
       "      <th>224791</th>\n",
       "      <td>2016-12-31 00:36:48</td>\n",
       "      <td>2016-12-31 01:45:16</td>\n",
       "      <td>0 days 01:08:28</td>\n",
       "      <td>Club/Bar/Restaurant</td>\n",
       "      <td>10036.0</td>\n",
       "      <td>NEW YORK</td>\n",
       "      <td>MANHATTAN</td>\n",
       "      <td>NaN</td>\n",
       "      <td>NaN</td>\n",
       "    </tr>\n",
       "    <tr>\n",
       "      <th>225156</th>\n",
       "      <td>2016-12-31 18:54:12</td>\n",
       "      <td>2016-12-31 20:46:31</td>\n",
       "      <td>0 days 01:52:19</td>\n",
       "      <td>Street/Sidewalk</td>\n",
       "      <td>10037.0</td>\n",
       "      <td>NEW YORK</td>\n",
       "      <td>MANHATTAN</td>\n",
       "      <td>NaN</td>\n",
       "      <td>NaN</td>\n",
       "    </tr>\n",
       "  </tbody>\n",
       "</table>\n",
       "</div>"
      ],
      "text/plain": [
       "              Created Date         Closed Date  Party Duration  \\\n",
       "210048 2016-11-30 00:16:03 2016-11-30 01:38:21 0 days 01:22:18   \n",
       "210482 2016-12-01 23:19:42 2016-12-02 05:46:51 0 days 06:27:09   \n",
       "210769 2016-12-02 21:58:56 2016-12-03 04:21:47 0 days 06:22:51   \n",
       "210800 2016-12-02 22:22:47 2016-12-02 23:04:07 0 days 00:41:20   \n",
       "210956 2016-12-02 23:43:15 2016-12-03 01:00:37 0 days 01:17:22   \n",
       "211066 2016-12-03 00:33:40 2016-12-03 04:50:26 0 days 04:16:46   \n",
       "211101 2016-12-03 00:47:06 2016-12-03 01:14:02 0 days 00:26:56   \n",
       "211224 2016-12-03 02:26:59 2016-12-03 05:15:57 0 days 02:48:58   \n",
       "211959 2016-12-04 00:19:04 2016-12-04 03:34:14 0 days 03:15:10   \n",
       "212243 2016-12-04 02:14:13 2016-12-04 03:36:33 0 days 01:22:20   \n",
       "215710 2016-12-11 08:26:45 2016-12-11 13:35:16 0 days 05:08:31   \n",
       "216079 2016-12-12 00:40:14 2016-12-12 06:10:39 0 days 05:30:25   \n",
       "216103 2016-12-12 01:21:29 2016-12-12 04:44:35 0 days 03:23:06   \n",
       "217310 2016-12-16 17:02:22 2016-12-17 14:48:35 0 days 21:46:13   \n",
       "217850 2016-12-17 02:37:40 2016-12-17 03:27:24 0 days 00:49:44   \n",
       "221388 2016-12-24 20:13:07 2016-12-24 20:48:56 0 days 00:35:49   \n",
       "222958 2016-12-26 16:31:23 2016-12-26 17:20:39 0 days 00:49:16   \n",
       "223577 2016-12-28 18:48:02 2016-12-28 21:36:20 0 days 02:48:18   \n",
       "224791 2016-12-31 00:36:48 2016-12-31 01:45:16 0 days 01:08:28   \n",
       "225156 2016-12-31 18:54:12 2016-12-31 20:46:31 0 days 01:52:19   \n",
       "\n",
       "                     Location Type  Incident Zip      City    Borough  \\\n",
       "210048  Residential Building/House       10027.0  NEW YORK  MANHATTAN   \n",
       "210482            Store/Commercial       10036.0  NEW YORK  MANHATTAN   \n",
       "210769  Residential Building/House       10026.0  NEW YORK  MANHATTAN   \n",
       "210800  Residential Building/House       10039.0  NEW YORK  MANHATTAN   \n",
       "210956             Street/Sidewalk       10029.0  NEW YORK  MANHATTAN   \n",
       "211066  Residential Building/House       10023.0  NEW YORK  MANHATTAN   \n",
       "211101             Street/Sidewalk       10029.0  NEW YORK  MANHATTAN   \n",
       "211224  Residential Building/House       10024.0  NEW YORK  MANHATTAN   \n",
       "211959  Residential Building/House       10009.0  NEW YORK  MANHATTAN   \n",
       "212243  Residential Building/House       10031.0  NEW YORK  MANHATTAN   \n",
       "215710             Street/Sidewalk       10014.0  NEW YORK  MANHATTAN   \n",
       "216079             Street/Sidewalk       10014.0  NEW YORK  MANHATTAN   \n",
       "216103             Street/Sidewalk       10014.0  NEW YORK  MANHATTAN   \n",
       "217310  Residential Building/House       10452.0     BRONX      BRONX   \n",
       "217850  Residential Building/House       10025.0  NEW YORK  MANHATTAN   \n",
       "221388  Residential Building/House       10019.0  NEW YORK  MANHATTAN   \n",
       "222958            Store/Commercial       10029.0  NEW YORK  MANHATTAN   \n",
       "223577             Street/Sidewalk       10027.0  NEW YORK  MANHATTAN   \n",
       "224791         Club/Bar/Restaurant       10036.0  NEW YORK  MANHATTAN   \n",
       "225156             Street/Sidewalk       10037.0  NEW YORK  MANHATTAN   \n",
       "\n",
       "        Latitude  Longitude  \n",
       "210048       NaN        NaN  \n",
       "210482       NaN        NaN  \n",
       "210769       NaN        NaN  \n",
       "210800       NaN        NaN  \n",
       "210956       NaN        NaN  \n",
       "211066       NaN        NaN  \n",
       "211101       NaN        NaN  \n",
       "211224       NaN        NaN  \n",
       "211959       NaN        NaN  \n",
       "212243       NaN        NaN  \n",
       "215710       NaN        NaN  \n",
       "216079       NaN        NaN  \n",
       "216103       NaN        NaN  \n",
       "217310       NaN        NaN  \n",
       "217850       NaN        NaN  \n",
       "221388       NaN        NaN  \n",
       "222958       NaN        NaN  \n",
       "223577       NaN        NaN  \n",
       "224791       NaN        NaN  \n",
       "225156       NaN        NaN  "
      ]
     },
     "execution_count": 25,
     "metadata": {},
     "output_type": "execute_result"
    }
   ],
   "source": [
    "nyc_parties_missing.tail(20)"
   ]
  },
  {
   "cell_type": "code",
   "execution_count": 26,
   "metadata": {},
   "outputs": [
    {
     "data": {
      "text/plain": [
       "Created Date        0\n",
       "Closed Date         0\n",
       "Party Duration      0\n",
       "Location Type       0\n",
       "Incident Zip        0\n",
       "City                0\n",
       "Borough             0\n",
       "Latitude          488\n",
       "Longitude         488\n",
       "dtype: int64"
      ]
     },
     "execution_count": 26,
     "metadata": {},
     "output_type": "execute_result"
    }
   ],
   "source": [
    "nyc_parties_missing.isnull().sum()"
   ]
  },
  {
   "cell_type": "code",
   "execution_count": 27,
   "metadata": {},
   "outputs": [
    {
     "data": {
      "text/html": [
       "<div>\n",
       "<style scoped>\n",
       "    .dataframe tbody tr th:only-of-type {\n",
       "        vertical-align: middle;\n",
       "    }\n",
       "\n",
       "    .dataframe tbody tr th {\n",
       "        vertical-align: top;\n",
       "    }\n",
       "\n",
       "    .dataframe thead th {\n",
       "        text-align: right;\n",
       "    }\n",
       "</style>\n",
       "<table border=\"1\" class=\"dataframe\">\n",
       "  <thead>\n",
       "    <tr style=\"text-align: right;\">\n",
       "      <th></th>\n",
       "      <th>Created Date</th>\n",
       "      <th>Closed Date</th>\n",
       "      <th>Party Duration</th>\n",
       "      <th>Location Type</th>\n",
       "      <th>Incident Zip</th>\n",
       "      <th>City</th>\n",
       "      <th>Borough</th>\n",
       "      <th>Latitude</th>\n",
       "      <th>Longitude</th>\n",
       "    </tr>\n",
       "  </thead>\n",
       "  <tbody>\n",
       "    <tr>\n",
       "      <th>0</th>\n",
       "      <td>2015-12-31 00:01:15</td>\n",
       "      <td>2015-12-31 03:48:04</td>\n",
       "      <td>0 days 03:46:49</td>\n",
       "      <td>Store/Commercial</td>\n",
       "      <td>10034.0</td>\n",
       "      <td>NEW YORK</td>\n",
       "      <td>MANHATTAN</td>\n",
       "      <td>40.866183</td>\n",
       "      <td>-73.918930</td>\n",
       "    </tr>\n",
       "    <tr>\n",
       "      <th>1</th>\n",
       "      <td>2015-12-31 00:02:48</td>\n",
       "      <td>2015-12-31 04:36:13</td>\n",
       "      <td>0 days 04:33:25</td>\n",
       "      <td>Store/Commercial</td>\n",
       "      <td>10040.0</td>\n",
       "      <td>NEW YORK</td>\n",
       "      <td>MANHATTAN</td>\n",
       "      <td>40.859324</td>\n",
       "      <td>-73.931237</td>\n",
       "    </tr>\n",
       "    <tr>\n",
       "      <th>2</th>\n",
       "      <td>2015-12-31 00:03:25</td>\n",
       "      <td>2015-12-31 00:40:15</td>\n",
       "      <td>0 days 00:36:50</td>\n",
       "      <td>Residential Building/House</td>\n",
       "      <td>10026.0</td>\n",
       "      <td>NEW YORK</td>\n",
       "      <td>MANHATTAN</td>\n",
       "      <td>40.799415</td>\n",
       "      <td>-73.953371</td>\n",
       "    </tr>\n",
       "    <tr>\n",
       "      <th>3</th>\n",
       "      <td>2015-12-31 00:03:26</td>\n",
       "      <td>2015-12-31 01:53:38</td>\n",
       "      <td>0 days 01:50:12</td>\n",
       "      <td>Residential Building/House</td>\n",
       "      <td>11231.0</td>\n",
       "      <td>BROOKLYN</td>\n",
       "      <td>BROOKLYN</td>\n",
       "      <td>40.678285</td>\n",
       "      <td>-73.994668</td>\n",
       "    </tr>\n",
       "    <tr>\n",
       "      <th>4</th>\n",
       "      <td>2015-12-31 00:05:10</td>\n",
       "      <td>2015-12-31 03:49:10</td>\n",
       "      <td>0 days 03:44:00</td>\n",
       "      <td>Residential Building/House</td>\n",
       "      <td>10033.0</td>\n",
       "      <td>NEW YORK</td>\n",
       "      <td>MANHATTAN</td>\n",
       "      <td>40.850304</td>\n",
       "      <td>-73.938516</td>\n",
       "    </tr>\n",
       "  </tbody>\n",
       "</table>\n",
       "</div>"
      ],
      "text/plain": [
       "         Created Date         Closed Date  Party Duration  \\\n",
       "0 2015-12-31 00:01:15 2015-12-31 03:48:04 0 days 03:46:49   \n",
       "1 2015-12-31 00:02:48 2015-12-31 04:36:13 0 days 04:33:25   \n",
       "2 2015-12-31 00:03:25 2015-12-31 00:40:15 0 days 00:36:50   \n",
       "3 2015-12-31 00:03:26 2015-12-31 01:53:38 0 days 01:50:12   \n",
       "4 2015-12-31 00:05:10 2015-12-31 03:49:10 0 days 03:44:00   \n",
       "\n",
       "                Location Type  Incident Zip      City    Borough   Latitude  \\\n",
       "0            Store/Commercial       10034.0  NEW YORK  MANHATTAN  40.866183   \n",
       "1            Store/Commercial       10040.0  NEW YORK  MANHATTAN  40.859324   \n",
       "2  Residential Building/House       10026.0  NEW YORK  MANHATTAN  40.799415   \n",
       "3  Residential Building/House       11231.0  BROOKLYN   BROOKLYN  40.678285   \n",
       "4  Residential Building/House       10033.0  NEW YORK  MANHATTAN  40.850304   \n",
       "\n",
       "   Longitude  \n",
       "0 -73.918930  \n",
       "1 -73.931237  \n",
       "2 -73.953371  \n",
       "3 -73.994668  \n",
       "4 -73.938516  "
      ]
     },
     "execution_count": 27,
     "metadata": {},
     "output_type": "execute_result"
    }
   ],
   "source": [
    "nyc_parties = nyc_parties.dropna(subset = ['Party Duration', 'Incident Zip', 'City'])\n",
    "nyc_parties.head()"
   ]
  },
  {
   "cell_type": "code",
   "execution_count": 28,
   "metadata": {},
   "outputs": [
    {
     "data": {
      "text/plain": [
       "224349"
      ]
     },
     "execution_count": 28,
     "metadata": {},
     "output_type": "execute_result"
    }
   ],
   "source": [
    "len(nyc_parties)"
   ]
  },
  {
   "cell_type": "markdown",
   "metadata": {},
   "source": [
    "After doing some digging around in the data I noticed a common trend with missing values. I found that most rows with missing values had almost all column values empty. I figured that my best option would be to drop all the troublesome rows. I still have a large amount of rows left over though. Now I'll check out the remaining missing values."
   ]
  },
  {
   "cell_type": "code",
   "execution_count": 29,
   "metadata": {},
   "outputs": [
    {
     "data": {
      "text/plain": [
       "Created Date        0\n",
       "Closed Date         0\n",
       "Party Duration      0\n",
       "Location Type       0\n",
       "Incident Zip        0\n",
       "City                0\n",
       "Borough             0\n",
       "Latitude          488\n",
       "Longitude         488\n",
       "dtype: int64"
      ]
     },
     "execution_count": 29,
     "metadata": {},
     "output_type": "execute_result"
    }
   ],
   "source": [
    "nyc_parties.isnull().sum()"
   ]
  },
  {
   "cell_type": "markdown",
   "metadata": {},
   "source": [
    "So I cleared all missing values except from `Latitude` and `Longitude` as those columns have plenty of useful information that I can work with. Now I want to see if all the other columns make sense."
   ]
  },
  {
   "cell_type": "code",
   "execution_count": 30,
   "metadata": {},
   "outputs": [
    {
     "data": {
      "text/plain": [
       "BROOKLYN               68884\n",
       "NEW YORK               64087\n",
       "BRONX                  47664\n",
       "STATEN ISLAND           5407\n",
       "JAMAICA                 4040\n",
       "ASTORIA                 3453\n",
       "CORONA                  2395\n",
       "RIDGEWOOD               2226\n",
       "SOUTH OZONE PARK        1852\n",
       "SOUTH RICHMOND HILL     1764\n",
       "FLUSHING                1760\n",
       "FAR ROCKAWAY            1535\n",
       "OZONE PARK              1494\n",
       "WOODSIDE                1283\n",
       "ELMHURST                1260\n",
       "EAST ELMHURST           1257\n",
       "JACKSON HEIGHTS         1229\n",
       "WOODHAVEN               1115\n",
       "RICHMOND HILL           1079\n",
       "LONG ISLAND CITY        1072\n",
       "QUEENS VILLAGE           953\n",
       "SUNNYSIDE                691\n",
       "HOLLIS                   670\n",
       "FRESH MEADOWS            613\n",
       "SAINT ALBANS             579\n",
       "FOREST HILLS             532\n",
       "COLLEGE POINT            529\n",
       "ARVERNE                  510\n",
       "SPRINGFIELD GARDENS      470\n",
       "HOWARD BEACH             438\n",
       "WHITESTONE               429\n",
       "MASPETH                  409\n",
       "ROCKAWAY PARK            378\n",
       "ROSEDALE                 366\n",
       "KEW GARDENS              364\n",
       "REGO PARK                319\n",
       "BAYSIDE                  232\n",
       "MIDDLE VILLAGE           217\n",
       "CAMBRIA HEIGHTS          171\n",
       "BELLEROSE                160\n",
       "LITTLE NECK              130\n",
       "GLEN OAKS                123\n",
       "OAKLAND GARDENS          113\n",
       "CENTRAL PARK              48\n",
       "QUEENS                    24\n",
       "FLORAL PARK               13\n",
       "NEW HYDE PARK             11\n",
       "BREEZY POINT               1\n",
       "Name: City, dtype: int64"
      ]
     },
     "execution_count": 30,
     "metadata": {},
     "output_type": "execute_result"
    }
   ],
   "source": [
    "nyc_parties['City'].value_counts()"
   ]
  },
  {
   "cell_type": "code",
   "execution_count": 31,
   "metadata": {},
   "outputs": [
    {
     "data": {
      "text/plain": [
       "BROOKLYN         68880\n",
       "MANHATTAN        64137\n",
       "BRONX            47663\n",
       "QUEENS           38262\n",
       "STATEN ISLAND     5407\n",
       "Name: Borough, dtype: int64"
      ]
     },
     "execution_count": 31,
     "metadata": {},
     "output_type": "execute_result"
    }
   ],
   "source": [
    "nyc_parties['Borough'].value_counts()"
   ]
  },
  {
   "cell_type": "markdown",
   "metadata": {},
   "source": [
    "Now I want to go ahead an inspect the `bar_locations` dataframe to see if that data happens to be clean. As I saw earlier, there are no explicit missing values in the data, but since missing values can take on many forms, I want to investigate a bit."
   ]
  },
  {
   "cell_type": "code",
   "execution_count": 32,
   "metadata": {},
   "outputs": [
    {
     "data": {
      "text/html": [
       "<div>\n",
       "<style scoped>\n",
       "    .dataframe tbody tr th:only-of-type {\n",
       "        vertical-align: middle;\n",
       "    }\n",
       "\n",
       "    .dataframe tbody tr th {\n",
       "        vertical-align: top;\n",
       "    }\n",
       "\n",
       "    .dataframe thead th {\n",
       "        text-align: right;\n",
       "    }\n",
       "</style>\n",
       "<table border=\"1\" class=\"dataframe\">\n",
       "  <thead>\n",
       "    <tr style=\"text-align: right;\">\n",
       "      <th></th>\n",
       "      <th>Location Type</th>\n",
       "      <th>Incident Zip</th>\n",
       "      <th>City</th>\n",
       "      <th>Borough</th>\n",
       "      <th>Latitude</th>\n",
       "      <th>Longitude</th>\n",
       "      <th>num_calls</th>\n",
       "    </tr>\n",
       "  </thead>\n",
       "  <tbody>\n",
       "    <tr>\n",
       "      <th>0</th>\n",
       "      <td>Club/Bar/Restaurant</td>\n",
       "      <td>10308.0</td>\n",
       "      <td>STATEN ISLAND</td>\n",
       "      <td>STATEN ISLAND</td>\n",
       "      <td>40.544096</td>\n",
       "      <td>-74.141155</td>\n",
       "      <td>40</td>\n",
       "    </tr>\n",
       "    <tr>\n",
       "      <th>1</th>\n",
       "      <td>Club/Bar/Restaurant</td>\n",
       "      <td>10012.0</td>\n",
       "      <td>NEW YORK</td>\n",
       "      <td>MANHATTAN</td>\n",
       "      <td>40.729793</td>\n",
       "      <td>-73.998842</td>\n",
       "      <td>18</td>\n",
       "    </tr>\n",
       "    <tr>\n",
       "      <th>2</th>\n",
       "      <td>Club/Bar/Restaurant</td>\n",
       "      <td>10308.0</td>\n",
       "      <td>STATEN ISLAND</td>\n",
       "      <td>STATEN ISLAND</td>\n",
       "      <td>40.544209</td>\n",
       "      <td>-74.141040</td>\n",
       "      <td>21</td>\n",
       "    </tr>\n",
       "    <tr>\n",
       "      <th>3</th>\n",
       "      <td>Club/Bar/Restaurant</td>\n",
       "      <td>10034.0</td>\n",
       "      <td>NEW YORK</td>\n",
       "      <td>MANHATTAN</td>\n",
       "      <td>40.866376</td>\n",
       "      <td>-73.928258</td>\n",
       "      <td>160</td>\n",
       "    </tr>\n",
       "    <tr>\n",
       "      <th>4</th>\n",
       "      <td>Club/Bar/Restaurant</td>\n",
       "      <td>11220.0</td>\n",
       "      <td>BROOKLYN</td>\n",
       "      <td>BROOKLYN</td>\n",
       "      <td>40.635207</td>\n",
       "      <td>-74.020285</td>\n",
       "      <td>17</td>\n",
       "    </tr>\n",
       "  </tbody>\n",
       "</table>\n",
       "</div>"
      ],
      "text/plain": [
       "         Location Type  Incident Zip           City        Borough   Latitude  \\\n",
       "0  Club/Bar/Restaurant       10308.0  STATEN ISLAND  STATEN ISLAND  40.544096   \n",
       "1  Club/Bar/Restaurant       10012.0       NEW YORK      MANHATTAN  40.729793   \n",
       "2  Club/Bar/Restaurant       10308.0  STATEN ISLAND  STATEN ISLAND  40.544209   \n",
       "3  Club/Bar/Restaurant       10034.0       NEW YORK      MANHATTAN  40.866376   \n",
       "4  Club/Bar/Restaurant       11220.0       BROOKLYN       BROOKLYN  40.635207   \n",
       "\n",
       "   Longitude  num_calls  \n",
       "0 -74.141155         40  \n",
       "1 -73.998842         18  \n",
       "2 -74.141040         21  \n",
       "3 -73.928258        160  \n",
       "4 -74.020285         17  "
      ]
     },
     "execution_count": 32,
     "metadata": {},
     "output_type": "execute_result"
    }
   ],
   "source": [
    "bar_locations.head()"
   ]
  },
  {
   "cell_type": "code",
   "execution_count": 33,
   "metadata": {},
   "outputs": [
    {
     "data": {
      "text/plain": [
       "NEW YORK               1078\n",
       "BROOKLYN                737\n",
       "ASTORIA                 141\n",
       "BRONX                   141\n",
       "STATEN ISLAND            64\n",
       "RIDGEWOOD                31\n",
       "JACKSON HEIGHTS          27\n",
       "JAMAICA                  21\n",
       "WOODSIDE                 21\n",
       "LONG ISLAND CITY         20\n",
       "SUNNYSIDE                14\n",
       "RICHMOND HILL            12\n",
       "OZONE PARK               12\n",
       "FOREST HILLS             12\n",
       "CORONA                   11\n",
       "MASPETH                   8\n",
       "FLUSHING                  8\n",
       "SOUTH OZONE PARK          8\n",
       "ELMHURST                  8\n",
       "HOLLIS                    7\n",
       "KEW GARDENS               7\n",
       "SOUTH RICHMOND HILL       6\n",
       "BAYSIDE                   6\n",
       "ROCKAWAY PARK             5\n",
       "EAST ELMHURST             5\n",
       "WOODHAVEN                 4\n",
       "FAR ROCKAWAY              4\n",
       "COLLEGE POINT             3\n",
       "GLEN OAKS                 3\n",
       "LITTLE NECK               2\n",
       "WHITESTONE                2\n",
       "ROSEDALE                  2\n",
       "HOWARD BEACH              2\n",
       "CAMBRIA HEIGHTS           2\n",
       "SAINT ALBANS              2\n",
       "REGO PARK                 2\n",
       "BELLEROSE                 1\n",
       "QUEENS VILLAGE            1\n",
       "Name: City, dtype: int64"
      ]
     },
     "execution_count": 33,
     "metadata": {},
     "output_type": "execute_result"
    }
   ],
   "source": [
    "bar_locations['City'].value_counts()"
   ]
  },
  {
   "cell_type": "code",
   "execution_count": 34,
   "metadata": {},
   "outputs": [
    {
     "data": {
      "text/plain": [
       "MANHATTAN        1076\n",
       "BROOKLYN          736\n",
       "QUEENS            418\n",
       "BRONX             141\n",
       "STATEN ISLAND      64\n",
       "Unspecified         5\n",
       "Name: Borough, dtype: int64"
      ]
     },
     "execution_count": 34,
     "metadata": {},
     "output_type": "execute_result"
    }
   ],
   "source": [
    "bar_locations['Borough'].value_counts()"
   ]
  },
  {
   "cell_type": "markdown",
   "metadata": {},
   "source": [
    "So now, I can see that 5 are listed as Unspecified. I can filter out only those rows to see if it can be fixed."
   ]
  },
  {
   "cell_type": "code",
   "execution_count": 35,
   "metadata": {},
   "outputs": [
    {
     "data": {
      "text/html": [
       "<div>\n",
       "<style scoped>\n",
       "    .dataframe tbody tr th:only-of-type {\n",
       "        vertical-align: middle;\n",
       "    }\n",
       "\n",
       "    .dataframe tbody tr th {\n",
       "        vertical-align: top;\n",
       "    }\n",
       "\n",
       "    .dataframe thead th {\n",
       "        text-align: right;\n",
       "    }\n",
       "</style>\n",
       "<table border=\"1\" class=\"dataframe\">\n",
       "  <thead>\n",
       "    <tr style=\"text-align: right;\">\n",
       "      <th></th>\n",
       "      <th>Location Type</th>\n",
       "      <th>Incident Zip</th>\n",
       "      <th>City</th>\n",
       "      <th>Borough</th>\n",
       "      <th>Latitude</th>\n",
       "      <th>Longitude</th>\n",
       "      <th>num_calls</th>\n",
       "    </tr>\n",
       "  </thead>\n",
       "  <tbody>\n",
       "    <tr>\n",
       "      <th>2076</th>\n",
       "      <td>Club/Bar/Restaurant</td>\n",
       "      <td>11226.0</td>\n",
       "      <td>BROOKLYN</td>\n",
       "      <td>Unspecified</td>\n",
       "      <td>40.651398</td>\n",
       "      <td>-73.958960</td>\n",
       "      <td>12</td>\n",
       "    </tr>\n",
       "    <tr>\n",
       "      <th>2077</th>\n",
       "      <td>Club/Bar/Restaurant</td>\n",
       "      <td>10010.0</td>\n",
       "      <td>NEW YORK</td>\n",
       "      <td>Unspecified</td>\n",
       "      <td>40.741648</td>\n",
       "      <td>-73.991916</td>\n",
       "      <td>14</td>\n",
       "    </tr>\n",
       "    <tr>\n",
       "      <th>2078</th>\n",
       "      <td>Club/Bar/Restaurant</td>\n",
       "      <td>11385.0</td>\n",
       "      <td>RIDGEWOOD</td>\n",
       "      <td>Unspecified</td>\n",
       "      <td>40.712877</td>\n",
       "      <td>-73.905179</td>\n",
       "      <td>133</td>\n",
       "    </tr>\n",
       "    <tr>\n",
       "      <th>2079</th>\n",
       "      <td>Club/Bar/Restaurant</td>\n",
       "      <td>11411.0</td>\n",
       "      <td>CAMBRIA HEIGHTS</td>\n",
       "      <td>Unspecified</td>\n",
       "      <td>40.691883</td>\n",
       "      <td>-73.730533</td>\n",
       "      <td>17</td>\n",
       "    </tr>\n",
       "    <tr>\n",
       "      <th>2080</th>\n",
       "      <td>Club/Bar/Restaurant</td>\n",
       "      <td>10022.0</td>\n",
       "      <td>NEW YORK</td>\n",
       "      <td>Unspecified</td>\n",
       "      <td>40.759268</td>\n",
       "      <td>-73.971148</td>\n",
       "      <td>80</td>\n",
       "    </tr>\n",
       "  </tbody>\n",
       "</table>\n",
       "</div>"
      ],
      "text/plain": [
       "            Location Type  Incident Zip             City      Borough  \\\n",
       "2076  Club/Bar/Restaurant       11226.0         BROOKLYN  Unspecified   \n",
       "2077  Club/Bar/Restaurant       10010.0         NEW YORK  Unspecified   \n",
       "2078  Club/Bar/Restaurant       11385.0        RIDGEWOOD  Unspecified   \n",
       "2079  Club/Bar/Restaurant       11411.0  CAMBRIA HEIGHTS  Unspecified   \n",
       "2080  Club/Bar/Restaurant       10022.0         NEW YORK  Unspecified   \n",
       "\n",
       "       Latitude  Longitude  num_calls  \n",
       "2076  40.651398 -73.958960         12  \n",
       "2077  40.741648 -73.991916         14  \n",
       "2078  40.712877 -73.905179        133  \n",
       "2079  40.691883 -73.730533         17  \n",
       "2080  40.759268 -73.971148         80  "
      ]
     },
     "execution_count": 35,
     "metadata": {},
     "output_type": "execute_result"
    }
   ],
   "source": [
    "bar_locations.loc[bar_locations['Borough'] == 'Unspecified']"
   ]
  },
  {
   "cell_type": "code",
   "execution_count": 36,
   "metadata": {},
   "outputs": [
    {
     "name": "stderr",
     "output_type": "stream",
     "text": [
      "C:\\Users\\PokeG\\anaconda3\\lib\\site-packages\\pandas\\core\\indexing.py:670: SettingWithCopyWarning: \n",
      "A value is trying to be set on a copy of a slice from a DataFrame\n",
      "\n",
      "See the caveats in the documentation: https://pandas.pydata.org/pandas-docs/stable/user_guide/indexing.html#returning-a-view-versus-a-copy\n",
      "  iloc._setitem_with_indexer(indexer, value)\n"
     ]
    }
   ],
   "source": [
    "for i in range(2076, 2081):\n",
    "    if bar_locations['City'].iloc[i] == 'BROOKLYN':\n",
    "        bar_locations['Borough'].iloc[i] = 'BROOKLYN'\n",
    "        \n",
    "    elif bar_locations['City'].iloc[i] == 'NEW YORK':\n",
    "        bar_locations['Borough'].iloc[i] = 'MANHATTAN'\n",
    "        \n",
    "    else:\n",
    "        bar_locations['Borough'].iloc[i] = 'QUEENS'"
   ]
  },
  {
   "cell_type": "code",
   "execution_count": 37,
   "metadata": {},
   "outputs": [
    {
     "data": {
      "text/html": [
       "<div>\n",
       "<style scoped>\n",
       "    .dataframe tbody tr th:only-of-type {\n",
       "        vertical-align: middle;\n",
       "    }\n",
       "\n",
       "    .dataframe tbody tr th {\n",
       "        vertical-align: top;\n",
       "    }\n",
       "\n",
       "    .dataframe thead th {\n",
       "        text-align: right;\n",
       "    }\n",
       "</style>\n",
       "<table border=\"1\" class=\"dataframe\">\n",
       "  <thead>\n",
       "    <tr style=\"text-align: right;\">\n",
       "      <th></th>\n",
       "      <th>Location Type</th>\n",
       "      <th>Incident Zip</th>\n",
       "      <th>City</th>\n",
       "      <th>Borough</th>\n",
       "      <th>Latitude</th>\n",
       "      <th>Longitude</th>\n",
       "      <th>num_calls</th>\n",
       "    </tr>\n",
       "  </thead>\n",
       "  <tbody>\n",
       "    <tr>\n",
       "      <th>2076</th>\n",
       "      <td>Club/Bar/Restaurant</td>\n",
       "      <td>11226.0</td>\n",
       "      <td>BROOKLYN</td>\n",
       "      <td>BROOKLYN</td>\n",
       "      <td>40.651398</td>\n",
       "      <td>-73.958960</td>\n",
       "      <td>12</td>\n",
       "    </tr>\n",
       "    <tr>\n",
       "      <th>2077</th>\n",
       "      <td>Club/Bar/Restaurant</td>\n",
       "      <td>10010.0</td>\n",
       "      <td>NEW YORK</td>\n",
       "      <td>MANHATTAN</td>\n",
       "      <td>40.741648</td>\n",
       "      <td>-73.991916</td>\n",
       "      <td>14</td>\n",
       "    </tr>\n",
       "    <tr>\n",
       "      <th>2078</th>\n",
       "      <td>Club/Bar/Restaurant</td>\n",
       "      <td>11385.0</td>\n",
       "      <td>RIDGEWOOD</td>\n",
       "      <td>QUEENS</td>\n",
       "      <td>40.712877</td>\n",
       "      <td>-73.905179</td>\n",
       "      <td>133</td>\n",
       "    </tr>\n",
       "    <tr>\n",
       "      <th>2079</th>\n",
       "      <td>Club/Bar/Restaurant</td>\n",
       "      <td>11411.0</td>\n",
       "      <td>CAMBRIA HEIGHTS</td>\n",
       "      <td>QUEENS</td>\n",
       "      <td>40.691883</td>\n",
       "      <td>-73.730533</td>\n",
       "      <td>17</td>\n",
       "    </tr>\n",
       "    <tr>\n",
       "      <th>2080</th>\n",
       "      <td>Club/Bar/Restaurant</td>\n",
       "      <td>10022.0</td>\n",
       "      <td>NEW YORK</td>\n",
       "      <td>MANHATTAN</td>\n",
       "      <td>40.759268</td>\n",
       "      <td>-73.971148</td>\n",
       "      <td>80</td>\n",
       "    </tr>\n",
       "  </tbody>\n",
       "</table>\n",
       "</div>"
      ],
      "text/plain": [
       "            Location Type  Incident Zip             City    Borough  \\\n",
       "2076  Club/Bar/Restaurant       11226.0         BROOKLYN   BROOKLYN   \n",
       "2077  Club/Bar/Restaurant       10010.0         NEW YORK  MANHATTAN   \n",
       "2078  Club/Bar/Restaurant       11385.0        RIDGEWOOD     QUEENS   \n",
       "2079  Club/Bar/Restaurant       11411.0  CAMBRIA HEIGHTS     QUEENS   \n",
       "2080  Club/Bar/Restaurant       10022.0         NEW YORK  MANHATTAN   \n",
       "\n",
       "       Latitude  Longitude  num_calls  \n",
       "2076  40.651398 -73.958960         12  \n",
       "2077  40.741648 -73.991916         14  \n",
       "2078  40.712877 -73.905179        133  \n",
       "2079  40.691883 -73.730533         17  \n",
       "2080  40.759268 -73.971148         80  "
      ]
     },
     "execution_count": 37,
     "metadata": {},
     "output_type": "execute_result"
    }
   ],
   "source": [
    "bar_locations.iloc[2076:2081]"
   ]
  },
  {
   "cell_type": "code",
   "execution_count": 38,
   "metadata": {},
   "outputs": [
    {
     "data": {
      "text/plain": [
       "MANHATTAN        1078\n",
       "BROOKLYN          737\n",
       "QUEENS            420\n",
       "BRONX             141\n",
       "STATEN ISLAND      64\n",
       "Name: Borough, dtype: int64"
      ]
     },
     "execution_count": 38,
     "metadata": {},
     "output_type": "execute_result"
    }
   ],
   "source": [
    "bar_locations['Borough'].value_counts()"
   ]
  },
  {
   "cell_type": "markdown",
   "metadata": {},
   "source": [
    "So now the columns with value Unspecified have been filled with their appropriate boroughs. Before I do anything else, I want to make sure that each column has the appropriate data type."
   ]
  },
  {
   "cell_type": "code",
   "execution_count": 39,
   "metadata": {},
   "outputs": [
    {
     "data": {
      "text/plain": [
       "Created Date       datetime64[ns]\n",
       "Closed Date        datetime64[ns]\n",
       "Party Duration    timedelta64[ns]\n",
       "Location Type              object\n",
       "Incident Zip              float64\n",
       "City                       object\n",
       "Borough                    object\n",
       "Latitude                  float64\n",
       "Longitude                 float64\n",
       "dtype: object"
      ]
     },
     "execution_count": 39,
     "metadata": {},
     "output_type": "execute_result"
    }
   ],
   "source": [
    "nyc_parties.dtypes"
   ]
  },
  {
   "cell_type": "code",
   "execution_count": 40,
   "metadata": {},
   "outputs": [
    {
     "data": {
      "text/plain": [
       "Location Type     object\n",
       "Incident Zip     float64\n",
       "City              object\n",
       "Borough           object\n",
       "Latitude         float64\n",
       "Longitude        float64\n",
       "num_calls          int64\n",
       "dtype: object"
      ]
     },
     "execution_count": 40,
     "metadata": {},
     "output_type": "execute_result"
    }
   ],
   "source": [
    "bar_locations.dtypes"
   ]
  },
  {
   "cell_type": "markdown",
   "metadata": {},
   "source": [
    "# Statistical Analysis and Visualizations"
   ]
  },
  {
   "cell_type": "markdown",
   "metadata": {},
   "source": [
    "To start off, I want to make sure that there are no outliers that could interfere with my findings for both datasets."
   ]
  },
  {
   "cell_type": "code",
   "execution_count": 41,
   "metadata": {},
   "outputs": [
    {
     "data": {
      "text/html": [
       "<div>\n",
       "<style scoped>\n",
       "    .dataframe tbody tr th:only-of-type {\n",
       "        vertical-align: middle;\n",
       "    }\n",
       "\n",
       "    .dataframe tbody tr th {\n",
       "        vertical-align: top;\n",
       "    }\n",
       "\n",
       "    .dataframe thead th {\n",
       "        text-align: right;\n",
       "    }\n",
       "</style>\n",
       "<table border=\"1\" class=\"dataframe\">\n",
       "  <thead>\n",
       "    <tr style=\"text-align: right;\">\n",
       "      <th></th>\n",
       "      <th>Created Date</th>\n",
       "      <th>Closed Date</th>\n",
       "      <th>Party Duration</th>\n",
       "      <th>Location Type</th>\n",
       "      <th>Incident Zip</th>\n",
       "      <th>City</th>\n",
       "      <th>Borough</th>\n",
       "      <th>Latitude</th>\n",
       "      <th>Longitude</th>\n",
       "    </tr>\n",
       "  </thead>\n",
       "  <tbody>\n",
       "    <tr>\n",
       "      <th>0</th>\n",
       "      <td>2015-12-31 00:01:15</td>\n",
       "      <td>2015-12-31 03:48:04</td>\n",
       "      <td>0 days 03:46:49</td>\n",
       "      <td>Store/Commercial</td>\n",
       "      <td>10034.0</td>\n",
       "      <td>NEW YORK</td>\n",
       "      <td>MANHATTAN</td>\n",
       "      <td>40.866183</td>\n",
       "      <td>-73.918930</td>\n",
       "    </tr>\n",
       "    <tr>\n",
       "      <th>1</th>\n",
       "      <td>2015-12-31 00:02:48</td>\n",
       "      <td>2015-12-31 04:36:13</td>\n",
       "      <td>0 days 04:33:25</td>\n",
       "      <td>Store/Commercial</td>\n",
       "      <td>10040.0</td>\n",
       "      <td>NEW YORK</td>\n",
       "      <td>MANHATTAN</td>\n",
       "      <td>40.859324</td>\n",
       "      <td>-73.931237</td>\n",
       "    </tr>\n",
       "    <tr>\n",
       "      <th>2</th>\n",
       "      <td>2015-12-31 00:03:25</td>\n",
       "      <td>2015-12-31 00:40:15</td>\n",
       "      <td>0 days 00:36:50</td>\n",
       "      <td>Residential Building/House</td>\n",
       "      <td>10026.0</td>\n",
       "      <td>NEW YORK</td>\n",
       "      <td>MANHATTAN</td>\n",
       "      <td>40.799415</td>\n",
       "      <td>-73.953371</td>\n",
       "    </tr>\n",
       "    <tr>\n",
       "      <th>3</th>\n",
       "      <td>2015-12-31 00:03:26</td>\n",
       "      <td>2015-12-31 01:53:38</td>\n",
       "      <td>0 days 01:50:12</td>\n",
       "      <td>Residential Building/House</td>\n",
       "      <td>11231.0</td>\n",
       "      <td>BROOKLYN</td>\n",
       "      <td>BROOKLYN</td>\n",
       "      <td>40.678285</td>\n",
       "      <td>-73.994668</td>\n",
       "    </tr>\n",
       "    <tr>\n",
       "      <th>4</th>\n",
       "      <td>2015-12-31 00:05:10</td>\n",
       "      <td>2015-12-31 03:49:10</td>\n",
       "      <td>0 days 03:44:00</td>\n",
       "      <td>Residential Building/House</td>\n",
       "      <td>10033.0</td>\n",
       "      <td>NEW YORK</td>\n",
       "      <td>MANHATTAN</td>\n",
       "      <td>40.850304</td>\n",
       "      <td>-73.938516</td>\n",
       "    </tr>\n",
       "  </tbody>\n",
       "</table>\n",
       "</div>"
      ],
      "text/plain": [
       "         Created Date         Closed Date  Party Duration  \\\n",
       "0 2015-12-31 00:01:15 2015-12-31 03:48:04 0 days 03:46:49   \n",
       "1 2015-12-31 00:02:48 2015-12-31 04:36:13 0 days 04:33:25   \n",
       "2 2015-12-31 00:03:25 2015-12-31 00:40:15 0 days 00:36:50   \n",
       "3 2015-12-31 00:03:26 2015-12-31 01:53:38 0 days 01:50:12   \n",
       "4 2015-12-31 00:05:10 2015-12-31 03:49:10 0 days 03:44:00   \n",
       "\n",
       "                Location Type  Incident Zip      City    Borough   Latitude  \\\n",
       "0            Store/Commercial       10034.0  NEW YORK  MANHATTAN  40.866183   \n",
       "1            Store/Commercial       10040.0  NEW YORK  MANHATTAN  40.859324   \n",
       "2  Residential Building/House       10026.0  NEW YORK  MANHATTAN  40.799415   \n",
       "3  Residential Building/House       11231.0  BROOKLYN   BROOKLYN  40.678285   \n",
       "4  Residential Building/House       10033.0  NEW YORK  MANHATTAN  40.850304   \n",
       "\n",
       "   Longitude  \n",
       "0 -73.918930  \n",
       "1 -73.931237  \n",
       "2 -73.953371  \n",
       "3 -73.994668  \n",
       "4 -73.938516  "
      ]
     },
     "execution_count": 41,
     "metadata": {},
     "output_type": "execute_result"
    }
   ],
   "source": [
    "nyc_parties.head()"
   ]
  },
  {
   "cell_type": "code",
   "execution_count": 42,
   "metadata": {},
   "outputs": [
    {
     "data": {
      "text/html": [
       "<div>\n",
       "<style scoped>\n",
       "    .dataframe tbody tr th:only-of-type {\n",
       "        vertical-align: middle;\n",
       "    }\n",
       "\n",
       "    .dataframe tbody tr th {\n",
       "        vertical-align: top;\n",
       "    }\n",
       "\n",
       "    .dataframe thead th {\n",
       "        text-align: right;\n",
       "    }\n",
       "</style>\n",
       "<table border=\"1\" class=\"dataframe\">\n",
       "  <thead>\n",
       "    <tr style=\"text-align: right;\">\n",
       "      <th></th>\n",
       "      <th>Location Type</th>\n",
       "      <th>Incident Zip</th>\n",
       "      <th>City</th>\n",
       "      <th>Borough</th>\n",
       "      <th>Latitude</th>\n",
       "      <th>Longitude</th>\n",
       "      <th>num_calls</th>\n",
       "    </tr>\n",
       "  </thead>\n",
       "  <tbody>\n",
       "    <tr>\n",
       "      <th>0</th>\n",
       "      <td>Club/Bar/Restaurant</td>\n",
       "      <td>10308.0</td>\n",
       "      <td>STATEN ISLAND</td>\n",
       "      <td>STATEN ISLAND</td>\n",
       "      <td>40.544096</td>\n",
       "      <td>-74.141155</td>\n",
       "      <td>40</td>\n",
       "    </tr>\n",
       "    <tr>\n",
       "      <th>1</th>\n",
       "      <td>Club/Bar/Restaurant</td>\n",
       "      <td>10012.0</td>\n",
       "      <td>NEW YORK</td>\n",
       "      <td>MANHATTAN</td>\n",
       "      <td>40.729793</td>\n",
       "      <td>-73.998842</td>\n",
       "      <td>18</td>\n",
       "    </tr>\n",
       "    <tr>\n",
       "      <th>2</th>\n",
       "      <td>Club/Bar/Restaurant</td>\n",
       "      <td>10308.0</td>\n",
       "      <td>STATEN ISLAND</td>\n",
       "      <td>STATEN ISLAND</td>\n",
       "      <td>40.544209</td>\n",
       "      <td>-74.141040</td>\n",
       "      <td>21</td>\n",
       "    </tr>\n",
       "    <tr>\n",
       "      <th>3</th>\n",
       "      <td>Club/Bar/Restaurant</td>\n",
       "      <td>10034.0</td>\n",
       "      <td>NEW YORK</td>\n",
       "      <td>MANHATTAN</td>\n",
       "      <td>40.866376</td>\n",
       "      <td>-73.928258</td>\n",
       "      <td>160</td>\n",
       "    </tr>\n",
       "    <tr>\n",
       "      <th>4</th>\n",
       "      <td>Club/Bar/Restaurant</td>\n",
       "      <td>11220.0</td>\n",
       "      <td>BROOKLYN</td>\n",
       "      <td>BROOKLYN</td>\n",
       "      <td>40.635207</td>\n",
       "      <td>-74.020285</td>\n",
       "      <td>17</td>\n",
       "    </tr>\n",
       "  </tbody>\n",
       "</table>\n",
       "</div>"
      ],
      "text/plain": [
       "         Location Type  Incident Zip           City        Borough   Latitude  \\\n",
       "0  Club/Bar/Restaurant       10308.0  STATEN ISLAND  STATEN ISLAND  40.544096   \n",
       "1  Club/Bar/Restaurant       10012.0       NEW YORK      MANHATTAN  40.729793   \n",
       "2  Club/Bar/Restaurant       10308.0  STATEN ISLAND  STATEN ISLAND  40.544209   \n",
       "3  Club/Bar/Restaurant       10034.0       NEW YORK      MANHATTAN  40.866376   \n",
       "4  Club/Bar/Restaurant       11220.0       BROOKLYN       BROOKLYN  40.635207   \n",
       "\n",
       "   Longitude  num_calls  \n",
       "0 -74.141155         40  \n",
       "1 -73.998842         18  \n",
       "2 -74.141040         21  \n",
       "3 -73.928258        160  \n",
       "4 -74.020285         17  "
      ]
     },
     "execution_count": 42,
     "metadata": {},
     "output_type": "execute_result"
    }
   ],
   "source": [
    "bar_locations.head()"
   ]
  },
  {
   "cell_type": "markdown",
   "metadata": {},
   "source": [
    "Firstly, I want to inspect the `Party Duration` column on the `nyc_parties` dataframe using z_scores."
   ]
  },
  {
   "cell_type": "code",
   "execution_count": 43,
   "metadata": {},
   "outputs": [
    {
     "data": {
      "text/plain": [
       "0         13609.0\n",
       "1         16405.0\n",
       "2          2210.0\n",
       "3          6612.0\n",
       "4         13440.0\n",
       "           ...   \n",
       "225409      464.0\n",
       "225410     7805.0\n",
       "225411    49060.0\n",
       "225412    13951.0\n",
       "225413     3660.0\n",
       "Name: Party Duration, Length: 224349, dtype: float64"
      ]
     },
     "execution_count": 43,
     "metadata": {},
     "output_type": "execute_result"
    }
   ],
   "source": [
    "#nyc_parties[(np.abs(stats.zscore(nyc_parties['Party Duration'])) < 3)]\n",
    "\n",
    "#nyc_parties['Party Duration'].dt.seconds.astype('int16') / 3600\n",
    "\n",
    "p_dur_sec = nyc_parties['Party Duration'] / np.timedelta64(1, 's')\n",
    "p_dur_sec"
   ]
  },
  {
   "cell_type": "code",
   "execution_count": 44,
   "metadata": {},
   "outputs": [
    {
     "data": {
      "text/plain": [
       "array([-0.10224096, -0.03622237, -0.37139185, ...,  0.73482092,\n",
       "       -0.09416572, -0.33715474])"
      ]
     },
     "execution_count": 44,
     "metadata": {},
     "output_type": "execute_result"
    }
   ],
   "source": [
    "z_score = stats.zscore(p_dur_sec)\n",
    "z_score"
   ]
  },
  {
   "cell_type": "code",
   "execution_count": 45,
   "metadata": {},
   "outputs": [
    {
     "data": {
      "text/plain": [
       "array([-0.10224096, -0.03622237, -0.37139185, ...,  0.73482092,\n",
       "       -0.09416572, -0.33715474])"
      ]
     },
     "execution_count": 45,
     "metadata": {},
     "output_type": "execute_result"
    }
   ],
   "source": [
    "z_score[np.abs(z_score) < 3]"
   ]
  },
  {
   "cell_type": "code",
   "execution_count": 46,
   "metadata": {},
   "outputs": [
    {
     "data": {
      "text/plain": [
       "224349"
      ]
     },
     "execution_count": 46,
     "metadata": {},
     "output_type": "execute_result"
    }
   ],
   "source": [
    "len(z_score)"
   ]
  },
  {
   "cell_type": "code",
   "execution_count": 47,
   "metadata": {},
   "outputs": [
    {
     "data": {
      "text/plain": [
       "224349"
      ]
     },
     "execution_count": 47,
     "metadata": {},
     "output_type": "execute_result"
    }
   ],
   "source": [
    "len(nyc_parties)"
   ]
  },
  {
   "cell_type": "code",
   "execution_count": 48,
   "metadata": {},
   "outputs": [
    {
     "data": {
      "text/plain": [
       "numpy.ndarray"
      ]
     },
     "execution_count": 48,
     "metadata": {},
     "output_type": "execute_result"
    }
   ],
   "source": [
    "type(z_score)"
   ]
  },
  {
   "cell_type": "markdown",
   "metadata": {},
   "source": [
    "So my plan now is to add my `z_score` values to my nyc_parties table as an extra column as I will be able to detect the outliers from there."
   ]
  },
  {
   "cell_type": "code",
   "execution_count": 49,
   "metadata": {},
   "outputs": [
    {
     "data": {
      "text/html": [
       "<div>\n",
       "<style scoped>\n",
       "    .dataframe tbody tr th:only-of-type {\n",
       "        vertical-align: middle;\n",
       "    }\n",
       "\n",
       "    .dataframe tbody tr th {\n",
       "        vertical-align: top;\n",
       "    }\n",
       "\n",
       "    .dataframe thead th {\n",
       "        text-align: right;\n",
       "    }\n",
       "</style>\n",
       "<table border=\"1\" class=\"dataframe\">\n",
       "  <thead>\n",
       "    <tr style=\"text-align: right;\">\n",
       "      <th></th>\n",
       "      <th>Created Date</th>\n",
       "      <th>Closed Date</th>\n",
       "      <th>Party Duration</th>\n",
       "      <th>Location Type</th>\n",
       "      <th>Incident Zip</th>\n",
       "      <th>City</th>\n",
       "      <th>Borough</th>\n",
       "      <th>Latitude</th>\n",
       "      <th>Longitude</th>\n",
       "    </tr>\n",
       "  </thead>\n",
       "  <tbody>\n",
       "    <tr>\n",
       "      <th>0</th>\n",
       "      <td>2015-12-31 00:01:15</td>\n",
       "      <td>2015-12-31 03:48:04</td>\n",
       "      <td>0 days 03:46:49</td>\n",
       "      <td>Store/Commercial</td>\n",
       "      <td>10034.0</td>\n",
       "      <td>NEW YORK</td>\n",
       "      <td>MANHATTAN</td>\n",
       "      <td>40.866183</td>\n",
       "      <td>-73.918930</td>\n",
       "    </tr>\n",
       "    <tr>\n",
       "      <th>1</th>\n",
       "      <td>2015-12-31 00:02:48</td>\n",
       "      <td>2015-12-31 04:36:13</td>\n",
       "      <td>0 days 04:33:25</td>\n",
       "      <td>Store/Commercial</td>\n",
       "      <td>10040.0</td>\n",
       "      <td>NEW YORK</td>\n",
       "      <td>MANHATTAN</td>\n",
       "      <td>40.859324</td>\n",
       "      <td>-73.931237</td>\n",
       "    </tr>\n",
       "    <tr>\n",
       "      <th>2</th>\n",
       "      <td>2015-12-31 00:03:25</td>\n",
       "      <td>2015-12-31 00:40:15</td>\n",
       "      <td>0 days 00:36:50</td>\n",
       "      <td>Residential Building/House</td>\n",
       "      <td>10026.0</td>\n",
       "      <td>NEW YORK</td>\n",
       "      <td>MANHATTAN</td>\n",
       "      <td>40.799415</td>\n",
       "      <td>-73.953371</td>\n",
       "    </tr>\n",
       "    <tr>\n",
       "      <th>3</th>\n",
       "      <td>2015-12-31 00:03:26</td>\n",
       "      <td>2015-12-31 01:53:38</td>\n",
       "      <td>0 days 01:50:12</td>\n",
       "      <td>Residential Building/House</td>\n",
       "      <td>11231.0</td>\n",
       "      <td>BROOKLYN</td>\n",
       "      <td>BROOKLYN</td>\n",
       "      <td>40.678285</td>\n",
       "      <td>-73.994668</td>\n",
       "    </tr>\n",
       "    <tr>\n",
       "      <th>4</th>\n",
       "      <td>2015-12-31 00:05:10</td>\n",
       "      <td>2015-12-31 03:49:10</td>\n",
       "      <td>0 days 03:44:00</td>\n",
       "      <td>Residential Building/House</td>\n",
       "      <td>10033.0</td>\n",
       "      <td>NEW YORK</td>\n",
       "      <td>MANHATTAN</td>\n",
       "      <td>40.850304</td>\n",
       "      <td>-73.938516</td>\n",
       "    </tr>\n",
       "  </tbody>\n",
       "</table>\n",
       "</div>"
      ],
      "text/plain": [
       "         Created Date         Closed Date  Party Duration  \\\n",
       "0 2015-12-31 00:01:15 2015-12-31 03:48:04 0 days 03:46:49   \n",
       "1 2015-12-31 00:02:48 2015-12-31 04:36:13 0 days 04:33:25   \n",
       "2 2015-12-31 00:03:25 2015-12-31 00:40:15 0 days 00:36:50   \n",
       "3 2015-12-31 00:03:26 2015-12-31 01:53:38 0 days 01:50:12   \n",
       "4 2015-12-31 00:05:10 2015-12-31 03:49:10 0 days 03:44:00   \n",
       "\n",
       "                Location Type  Incident Zip      City    Borough   Latitude  \\\n",
       "0            Store/Commercial       10034.0  NEW YORK  MANHATTAN  40.866183   \n",
       "1            Store/Commercial       10040.0  NEW YORK  MANHATTAN  40.859324   \n",
       "2  Residential Building/House       10026.0  NEW YORK  MANHATTAN  40.799415   \n",
       "3  Residential Building/House       11231.0  BROOKLYN   BROOKLYN  40.678285   \n",
       "4  Residential Building/House       10033.0  NEW YORK  MANHATTAN  40.850304   \n",
       "\n",
       "   Longitude  \n",
       "0 -73.918930  \n",
       "1 -73.931237  \n",
       "2 -73.953371  \n",
       "3 -73.994668  \n",
       "4 -73.938516  "
      ]
     },
     "execution_count": 49,
     "metadata": {},
     "output_type": "execute_result"
    }
   ],
   "source": [
    "nyc_parties.head()"
   ]
  },
  {
   "cell_type": "code",
   "execution_count": 50,
   "metadata": {},
   "outputs": [],
   "source": [
    "z_score = pd.Series(z_score)\n",
    "\n",
    "nyc_parties.insert(3, 'Duration Z_Scores', z_score)"
   ]
  },
  {
   "cell_type": "code",
   "execution_count": 51,
   "metadata": {},
   "outputs": [
    {
     "data": {
      "text/html": [
       "<div>\n",
       "<style scoped>\n",
       "    .dataframe tbody tr th:only-of-type {\n",
       "        vertical-align: middle;\n",
       "    }\n",
       "\n",
       "    .dataframe tbody tr th {\n",
       "        vertical-align: top;\n",
       "    }\n",
       "\n",
       "    .dataframe thead th {\n",
       "        text-align: right;\n",
       "    }\n",
       "</style>\n",
       "<table border=\"1\" class=\"dataframe\">\n",
       "  <thead>\n",
       "    <tr style=\"text-align: right;\">\n",
       "      <th></th>\n",
       "      <th>Created Date</th>\n",
       "      <th>Closed Date</th>\n",
       "      <th>Party Duration</th>\n",
       "      <th>Duration Z_Scores</th>\n",
       "      <th>Location Type</th>\n",
       "      <th>Incident Zip</th>\n",
       "      <th>City</th>\n",
       "      <th>Borough</th>\n",
       "      <th>Latitude</th>\n",
       "      <th>Longitude</th>\n",
       "    </tr>\n",
       "  </thead>\n",
       "  <tbody>\n",
       "    <tr>\n",
       "      <th>0</th>\n",
       "      <td>2015-12-31 00:01:15</td>\n",
       "      <td>2015-12-31 03:48:04</td>\n",
       "      <td>0 days 03:46:49</td>\n",
       "      <td>-0.102241</td>\n",
       "      <td>Store/Commercial</td>\n",
       "      <td>10034.0</td>\n",
       "      <td>NEW YORK</td>\n",
       "      <td>MANHATTAN</td>\n",
       "      <td>40.866183</td>\n",
       "      <td>-73.918930</td>\n",
       "    </tr>\n",
       "    <tr>\n",
       "      <th>1</th>\n",
       "      <td>2015-12-31 00:02:48</td>\n",
       "      <td>2015-12-31 04:36:13</td>\n",
       "      <td>0 days 04:33:25</td>\n",
       "      <td>-0.036222</td>\n",
       "      <td>Store/Commercial</td>\n",
       "      <td>10040.0</td>\n",
       "      <td>NEW YORK</td>\n",
       "      <td>MANHATTAN</td>\n",
       "      <td>40.859324</td>\n",
       "      <td>-73.931237</td>\n",
       "    </tr>\n",
       "    <tr>\n",
       "      <th>2</th>\n",
       "      <td>2015-12-31 00:03:25</td>\n",
       "      <td>2015-12-31 00:40:15</td>\n",
       "      <td>0 days 00:36:50</td>\n",
       "      <td>-0.371392</td>\n",
       "      <td>Residential Building/House</td>\n",
       "      <td>10026.0</td>\n",
       "      <td>NEW YORK</td>\n",
       "      <td>MANHATTAN</td>\n",
       "      <td>40.799415</td>\n",
       "      <td>-73.953371</td>\n",
       "    </tr>\n",
       "    <tr>\n",
       "      <th>3</th>\n",
       "      <td>2015-12-31 00:03:26</td>\n",
       "      <td>2015-12-31 01:53:38</td>\n",
       "      <td>0 days 01:50:12</td>\n",
       "      <td>-0.267453</td>\n",
       "      <td>Residential Building/House</td>\n",
       "      <td>11231.0</td>\n",
       "      <td>BROOKLYN</td>\n",
       "      <td>BROOKLYN</td>\n",
       "      <td>40.678285</td>\n",
       "      <td>-73.994668</td>\n",
       "    </tr>\n",
       "    <tr>\n",
       "      <th>4</th>\n",
       "      <td>2015-12-31 00:05:10</td>\n",
       "      <td>2015-12-31 03:49:10</td>\n",
       "      <td>0 days 03:44:00</td>\n",
       "      <td>-0.106231</td>\n",
       "      <td>Residential Building/House</td>\n",
       "      <td>10033.0</td>\n",
       "      <td>NEW YORK</td>\n",
       "      <td>MANHATTAN</td>\n",
       "      <td>40.850304</td>\n",
       "      <td>-73.938516</td>\n",
       "    </tr>\n",
       "  </tbody>\n",
       "</table>\n",
       "</div>"
      ],
      "text/plain": [
       "         Created Date         Closed Date  Party Duration  Duration Z_Scores  \\\n",
       "0 2015-12-31 00:01:15 2015-12-31 03:48:04 0 days 03:46:49          -0.102241   \n",
       "1 2015-12-31 00:02:48 2015-12-31 04:36:13 0 days 04:33:25          -0.036222   \n",
       "2 2015-12-31 00:03:25 2015-12-31 00:40:15 0 days 00:36:50          -0.371392   \n",
       "3 2015-12-31 00:03:26 2015-12-31 01:53:38 0 days 01:50:12          -0.267453   \n",
       "4 2015-12-31 00:05:10 2015-12-31 03:49:10 0 days 03:44:00          -0.106231   \n",
       "\n",
       "                Location Type  Incident Zip      City    Borough   Latitude  \\\n",
       "0            Store/Commercial       10034.0  NEW YORK  MANHATTAN  40.866183   \n",
       "1            Store/Commercial       10040.0  NEW YORK  MANHATTAN  40.859324   \n",
       "2  Residential Building/House       10026.0  NEW YORK  MANHATTAN  40.799415   \n",
       "3  Residential Building/House       11231.0  BROOKLYN   BROOKLYN  40.678285   \n",
       "4  Residential Building/House       10033.0  NEW YORK  MANHATTAN  40.850304   \n",
       "\n",
       "   Longitude  \n",
       "0 -73.918930  \n",
       "1 -73.931237  \n",
       "2 -73.953371  \n",
       "3 -73.994668  \n",
       "4 -73.938516  "
      ]
     },
     "execution_count": 51,
     "metadata": {},
     "output_type": "execute_result"
    }
   ],
   "source": [
    "nyc_parties.head()"
   ]
  },
  {
   "cell_type": "markdown",
   "metadata": {},
   "source": [
    "So now I've got my Z_scores available on my table so I should be able to easily detect the outliers now. But first, I need to make sure that my Z_Scores are correct."
   ]
  },
  {
   "cell_type": "code",
   "execution_count": 52,
   "metadata": {},
   "outputs": [
    {
     "data": {
      "text/plain": [
       "Timedelta('0 days 06:39:00.976163873')"
      ]
     },
     "execution_count": 52,
     "metadata": {},
     "output_type": "execute_result"
    }
   ],
   "source": [
    "nyc_zs_outliers = nyc_parties.loc[nyc_parties['Duration Z_Scores'] > 3]\n",
    "nyc_zs_outliers['Party Duration'].mean()"
   ]
  },
  {
   "cell_type": "code",
   "execution_count": 53,
   "metadata": {},
   "outputs": [
    {
     "data": {
      "text/plain": [
       "Timedelta('0 days 04:57:52.628522212')"
      ]
     },
     "execution_count": 53,
     "metadata": {},
     "output_type": "execute_result"
    }
   ],
   "source": [
    "nyc_zs_accurate = nyc_parties.loc[nyc_parties['Duration Z_Scores'] < 3]\n",
    "nyc_zs_accurate['Party Duration'].mean()"
   ]
  },
  {
   "cell_type": "code",
   "execution_count": 54,
   "metadata": {},
   "outputs": [
    {
     "data": {
      "text/plain": [
       "Timedelta('0 days 04:58:59.079171291')"
      ]
     },
     "execution_count": 54,
     "metadata": {},
     "output_type": "execute_result"
    }
   ],
   "source": [
    "nyc_parties['Party Duration'].mean()"
   ]
  },
  {
   "cell_type": "code",
   "execution_count": 55,
   "metadata": {},
   "outputs": [
    {
     "data": {
      "text/plain": [
       "Timedelta('0 days 01:41:08.347641661')"
      ]
     },
     "execution_count": 55,
     "metadata": {},
     "output_type": "execute_result"
    }
   ],
   "source": [
    "nyc_zs_outliers['Party Duration'].mean() - nyc_zs_accurate['Party Duration'].mean()"
   ]
  },
  {
   "cell_type": "markdown",
   "metadata": {},
   "source": [
    "So the averages for the larger Z_Scores (outliers) happen to have lasted for more time than those with a Z_Score smaller than 3 by a difference of a little over an hour and 40 minutes. Based on what happens when I do remove the larger Z_Scores from the `nyc_parties` dataframe, it's safe to say that it doesn't make much of a difference in the mean with the dataframe containing all values. Now I want to see when most parties took place during the year."
   ]
  },
  {
   "cell_type": "code",
   "execution_count": 56,
   "metadata": {},
   "outputs": [
    {
     "data": {
      "text/plain": [
       "<matplotlib.collections.PathCollection at 0x16c682e47f0>"
      ]
     },
     "execution_count": 56,
     "metadata": {},
     "output_type": "execute_result"
    },
    {
     "data": {
      "image/png": "[encoded data removed]",
      "text/plain": [
       "<Figure size 432x288 with 1 Axes>"
      ]
     },
     "metadata": {
      "needs_background": "light"
     },
     "output_type": "display_data"
    }
   ],
   "source": [
    "p_dur_hr = p_dur_sec / 3600\n",
    "\n",
    "x = nyc_parties['Created Date']\n",
    "y = p_dur_hr\n",
    "plt.title('Times Of Year With Longest Parties')\n",
    "plt.xlabel('Months Of Parties')\n",
    "plt.ylabel('Hours Lasted On Parties')\n",
    "\n",
    "plt.scatter(x, y, alpha = 0.3)\n",
    "#plt.savefig('Python_Project_Visuals/longest_parties.png')"
   ]
  },
  {
   "cell_type": "markdown",
   "metadata": {},
   "source": [
    "I noticed that there were some outliers that I discovered right in my data so I decided to remove the data that had parties longer than 200 hours. Now I'm going to fix the scatter plot so that I can get a better idea on the amount of parties happening during certain times of the year."
   ]
  },
  {
   "cell_type": "code",
   "execution_count": 57,
   "metadata": {},
   "outputs": [
    {
     "data": {
      "text/plain": [
       "<matplotlib.collections.PathCollection at 0x16c6c7de0d0>"
      ]
     },
     "execution_count": 57,
     "metadata": {},
     "output_type": "execute_result"
    },
    {
     "data": {
      "image/png": "[encoded data removed]",
      "text/plain": [
       "<Figure size 432x288 with 1 Axes>"
      ]
     },
     "metadata": {
      "needs_background": "light"
     },
     "output_type": "display_data"
    }
   ],
   "source": [
    "p_dur_sec = nyc_parties['Party Duration'] / np.timedelta64(1, 's')\n",
    "p_dur_hr = p_dur_sec / 3600\n",
    "\n",
    "x = nyc_parties['Created Date']\n",
    "y = p_dur_hr\n",
    "plt.title('Times Of Year With Longest Parties')\n",
    "plt.xlabel('Months Of Parties')\n",
    "plt.ylabel('Hours Lasted On Parties')\n",
    "plt.ylim([0, 200])\n",
    "\n",
    "plt.scatter(x, y, alpha = 0.5)\n",
    "#plt.savefig('Python_Project_Visuals/longest_parties_2.png')"
   ]
  },
  {
   "cell_type": "markdown",
   "metadata": {},
   "source": [
    "So now that I've zoomed in a bit more on my scatter plot, it looks like longer parties are mostly held around the summer time between June and September. March and April also look like they had plenty of long parties. Now I'm curious to see what type of location many of these parties took place in. To do that, my plan is to create a line graph with a legend of the average hours for each location type as the scatter plot has too many data points."
   ]
  },
  {
   "cell_type": "code",
   "execution_count": 58,
   "metadata": {},
   "outputs": [
    {
     "data": {
      "text/plain": [
       "pandas.core.series.Series"
      ]
     },
     "execution_count": 58,
     "metadata": {},
     "output_type": "execute_result"
    }
   ],
   "source": [
    "type(p_dur_hr)"
   ]
  },
  {
   "cell_type": "code",
   "execution_count": 59,
   "metadata": {},
   "outputs": [
    {
     "data": {
      "text/html": [
       "<div>\n",
       "<style scoped>\n",
       "    .dataframe tbody tr th:only-of-type {\n",
       "        vertical-align: middle;\n",
       "    }\n",
       "\n",
       "    .dataframe tbody tr th {\n",
       "        vertical-align: top;\n",
       "    }\n",
       "\n",
       "    .dataframe thead th {\n",
       "        text-align: right;\n",
       "    }\n",
       "</style>\n",
       "<table border=\"1\" class=\"dataframe\">\n",
       "  <thead>\n",
       "    <tr style=\"text-align: right;\">\n",
       "      <th></th>\n",
       "      <th>Created Date</th>\n",
       "      <th>Hour Duration</th>\n",
       "      <th>Location Type</th>\n",
       "      <th>Borough</th>\n",
       "      <th>Month</th>\n",
       "    </tr>\n",
       "  </thead>\n",
       "  <tbody>\n",
       "    <tr>\n",
       "      <th>0</th>\n",
       "      <td>2015-12-31 00:01:15</td>\n",
       "      <td>3.780278</td>\n",
       "      <td>Store/Commercial</td>\n",
       "      <td>MANHATTAN</td>\n",
       "      <td>2015-12</td>\n",
       "    </tr>\n",
       "    <tr>\n",
       "      <th>1</th>\n",
       "      <td>2015-12-31 00:02:48</td>\n",
       "      <td>4.556944</td>\n",
       "      <td>Store/Commercial</td>\n",
       "      <td>MANHATTAN</td>\n",
       "      <td>2015-12</td>\n",
       "    </tr>\n",
       "    <tr>\n",
       "      <th>2</th>\n",
       "      <td>2015-12-31 00:03:25</td>\n",
       "      <td>0.613889</td>\n",
       "      <td>Residential Building/House</td>\n",
       "      <td>MANHATTAN</td>\n",
       "      <td>2015-12</td>\n",
       "    </tr>\n",
       "    <tr>\n",
       "      <th>3</th>\n",
       "      <td>2015-12-31 00:03:26</td>\n",
       "      <td>1.836667</td>\n",
       "      <td>Residential Building/House</td>\n",
       "      <td>BROOKLYN</td>\n",
       "      <td>2015-12</td>\n",
       "    </tr>\n",
       "    <tr>\n",
       "      <th>4</th>\n",
       "      <td>2015-12-31 00:05:10</td>\n",
       "      <td>3.733333</td>\n",
       "      <td>Residential Building/House</td>\n",
       "      <td>MANHATTAN</td>\n",
       "      <td>2015-12</td>\n",
       "    </tr>\n",
       "  </tbody>\n",
       "</table>\n",
       "</div>"
      ],
      "text/plain": [
       "         Created Date  Hour Duration               Location Type    Borough  \\\n",
       "0 2015-12-31 00:01:15       3.780278            Store/Commercial  MANHATTAN   \n",
       "1 2015-12-31 00:02:48       4.556944            Store/Commercial  MANHATTAN   \n",
       "2 2015-12-31 00:03:25       0.613889  Residential Building/House  MANHATTAN   \n",
       "3 2015-12-31 00:03:26       1.836667  Residential Building/House   BROOKLYN   \n",
       "4 2015-12-31 00:05:10       3.733333  Residential Building/House  MANHATTAN   \n",
       "\n",
       "     Month  \n",
       "0  2015-12  \n",
       "1  2015-12  \n",
       "2  2015-12  \n",
       "3  2015-12  \n",
       "4  2015-12  "
      ]
     },
     "execution_count": 59,
     "metadata": {},
     "output_type": "execute_result"
    }
   ],
   "source": [
    "temp = pd.DataFrame({'Created Date': nyc_parties['Created Date'], 'Hour Duration': p_dur_hr,\n",
    "                    'Location Type': nyc_parties['Location Type'], 'Borough': nyc_parties['Borough']})\n",
    "\n",
    "temp['Month'] = temp['Created Date'].dt.strftime('%Y-%m')\n",
    "temp.head()"
   ]
  },
  {
   "cell_type": "code",
   "execution_count": 60,
   "metadata": {},
   "outputs": [],
   "source": [
    "avg_months = temp.groupby(['Month', 'Location Type']).mean()\n",
    "avg_months.reset_index(inplace = True)"
   ]
  },
  {
   "cell_type": "code",
   "execution_count": 61,
   "metadata": {},
   "outputs": [
    {
     "data": {
      "text/plain": [
       "<matplotlib.legend.Legend at 0x16c6c7de7f0>"
      ]
     },
     "execution_count": 61,
     "metadata": {},
     "output_type": "execute_result"
    },
    {
     "data": {
      "image/png": "[encoded data removed]",
      "text/plain": [
       "<Figure size 432x288 with 1 Axes>"
      ]
     },
     "metadata": {
      "needs_background": "light"
     },
     "output_type": "display_data"
    }
   ],
   "source": [
    "sns.lineplot(data = avg_months, x = 'Month', y = 'Hour Duration', hue = 'Location Type')\n",
    "plt.title('Average Hours Before Party Shut Down For Each Month')\n",
    "plt.xlabel('Months Of Parties')\n",
    "plt.ylabel('Average Hours For Each Location Type')\n",
    "plt.xticks(rotation = 'vertical')\n",
    "plt.legend(bbox_to_anchor = (1.02, 1), loc = 'upper left', borderaxespad = 0, title = 'Location Type')\n",
    "#plt.savefig('Python_Project_Visuals/avg_hours.png')"
   ]
  },
  {
   "cell_type": "markdown",
   "metadata": {},
   "source": [
    "So now with my line graph, I can see that as the months go by, so do the average hours before a party gets shut down This is highest during the summer months as it is likely due to the nicer weather. This can explain the length of street/sidewalk parties being higher around this time while residential building/house parties go for a longer time during the cooler months. I believe that the reason for the average hours being higher during the warmer months could be because for pretty much every location types, that is where the peak is. What this is suggesting is that there may be more parties happening than there are enough cops that can shut down these parties. Noise complaints appear to be shut down fastest at a House of Worship. Now I want to get the same line graph, but I want to see this from the borough point of view."
   ]
  },
  {
   "cell_type": "code",
   "execution_count": 62,
   "metadata": {},
   "outputs": [],
   "source": [
    "avg_boroughs = temp.groupby(['Month', 'Borough']).mean()\n",
    "avg_boroughs.reset_index(inplace = True)"
   ]
  },
  {
   "cell_type": "code",
   "execution_count": 63,
   "metadata": {
    "scrolled": true
   },
   "outputs": [
    {
     "data": {
      "text/plain": [
       "<matplotlib.legend.Legend at 0x16c7370de20>"
      ]
     },
     "execution_count": 63,
     "metadata": {},
     "output_type": "execute_result"
    },
    {
     "data": {
      "image/png": "[encoded data removed]",
      "text/plain": [
       "<Figure size 432x288 with 1 Axes>"
      ]
     },
     "metadata": {
      "needs_background": "light"
     },
     "output_type": "display_data"
    }
   ],
   "source": [
    "sns.lineplot(data = avg_boroughs, x = 'Month', y = 'Hour Duration', hue = 'Borough')\n",
    "plt.title('Average Hours Before Party Shut Down For Each Month')\n",
    "plt.xlabel('Months Of Parties')\n",
    "plt.ylabel(' Average Hours For Each Borough')\n",
    "plt.xticks(rotation = 'vertical')\n",
    "plt.legend(bbox_to_anchor = (1.02, 1), loc = 'upper left', borderaxespad = 0, title = 'Borough')\n",
    "#plt.savefig('Python_Project_Visuals/avg_hours_2.png')"
   ]
  },
  {
   "cell_type": "markdown",
   "metadata": {},
   "source": [
    "So now, by looking at this, parties last longer in The Bronx before getting shut down and this appears to be the case for the entire year. With the other 4 boroughs though, they appear to get shut down much faster. Also in terms of the time of year, it seems like The Bronx is the borough where this gets mostly affected as the other boroughs go up and down throughout different months. Now I want to see the relationship between Location Type and Borough. This can be done with a stacked bar chart."
   ]
  },
  {
   "cell_type": "code",
   "execution_count": 64,
   "metadata": {},
   "outputs": [
    {
     "data": {
      "text/plain": [
       "BROOKLYN         68880\n",
       "MANHATTAN        64137\n",
       "BRONX            47663\n",
       "QUEENS           38262\n",
       "STATEN ISLAND     5407\n",
       "Name: Borough, dtype: int64"
      ]
     },
     "execution_count": 64,
     "metadata": {},
     "output_type": "execute_result"
    }
   ],
   "source": [
    "nyc_parties['Borough'].value_counts()"
   ]
  },
  {
   "cell_type": "code",
   "execution_count": 65,
   "metadata": {
    "scrolled": true
   },
   "outputs": [
    {
     "name": "stderr",
     "output_type": "stream",
     "text": [
      "<ipython-input-65-0dbe301f0da1>:2: SettingWithCopyWarning: \n",
      "A value is trying to be set on a copy of a slice from a DataFrame.\n",
      "Try using .loc[row_indexer,col_indexer] = value instead\n",
      "\n",
      "See the caveats in the documentation: https://pandas.pydata.org/pandas-docs/stable/user_guide/indexing.html#returning-a-view-versus-a-copy\n",
      "  location_per_borough['Amount'] = 1\n"
     ]
    },
    {
     "data": {
      "image/png": "[encoded data removed]",
      "text/plain": [
       "<Figure size 432x360 with 1 Axes>"
      ]
     },
     "metadata": {
      "needs_background": "light"
     },
     "output_type": "display_data"
    }
   ],
   "source": [
    "location_per_borough = nyc_parties[['Borough', 'Location Type']]\n",
    "location_per_borough['Amount'] = 1\n",
    "location_per_borough = location_per_borough.groupby(['Borough', 'Location Type']).sum()\n",
    "\n",
    "ax = location_per_borough.unstack().plot(kind = 'bar', y = 'Amount', figsize = (6,5), stacked = True)\n",
    "ax.legend(bbox_to_anchor = (1.02, 1), loc = 'upper left', borderaxespad = 0, title = 'Location Type')\n",
    "plt.title('Boroughs With The Most Parties Per Location Type')\n",
    "plt.xlabel('Boroughs')\n",
    "plt.ylabel('Number Of Parties')\n",
    "\n",
    "for i in range(len(ax.containers)):\n",
    "    ax.bar_label(ax.containers[i], size = 8, label_type = 'center')\n",
    "    \n",
    "    if i == len(ax.containers) - 1:\n",
    "        ax.bar_label(ax.containers[i], size = 8)\n",
    "        \n",
    "#plt.savefig('Python_Project_Visuals/borough_parties.png')"
   ]
  },
  {
   "cell_type": "markdown",
   "metadata": {},
   "source": [
    "So throughout each borough, it looks like each borough has most parties in a residential building/house while in second place, parties are held in a street/sidewalk setting. The problem is that with the stacked bar chart that I have, it's harder to analyze smaller party location types. The best way that I can work around this is by zooming in a bit."
   ]
  },
  {
   "cell_type": "code",
   "execution_count": 66,
   "metadata": {},
   "outputs": [
    {
     "data": {
      "image/png": "[encoded data removed]",
      "text/plain": [
       "<Figure size 432x360 with 1 Axes>"
      ]
     },
     "metadata": {
      "needs_background": "light"
     },
     "output_type": "display_data"
    }
   ],
   "source": [
    "ax = location_per_borough.unstack().plot(kind = 'bar', y = 'Amount', figsize = (6,5), stacked = True)\n",
    "ax.legend(bbox_to_anchor = (1.02, 1), loc = 'upper left', borderaxespad = 0, title = 'Location Type')\n",
    "plt.title('Boroughs With The Most Parties Per Location Type')\n",
    "plt.xlabel('Boroughs')\n",
    "plt.ylabel('Number Of Parties')\n",
    "plt.ylim((0, 10000))\n",
    "\n",
    "for i in range(len(ax.containers)):\n",
    "    ax.bar_label(ax.containers[i], size = 8, label_type = 'center')\n",
    "    \n",
    "#plt.savefig('Python_Project_Visuals/borough_parties_2.png')"
   ]
  },
  {
   "cell_type": "markdown",
   "metadata": {},
   "source": [
    "So now with less of a mess over on the bottom, the numbers are much more clear. This gives more of an insight on how clubs/bars/restaurants also have plenty of parties held. The only issue now with this bar chart is that Staten Island still has a bit of a mess. Looks like I can fix this by zooming in even more."
   ]
  },
  {
   "cell_type": "code",
   "execution_count": 67,
   "metadata": {},
   "outputs": [
    {
     "data": {
      "image/png": "[encoded data removed]",
      "text/plain": [
       "<Figure size 432x360 with 1 Axes>"
      ]
     },
     "metadata": {
      "needs_background": "light"
     },
     "output_type": "display_data"
    }
   ],
   "source": [
    "ax = location_per_borough.unstack().plot(kind = 'bar', y = 'Amount', figsize = (6,5), stacked = True)\n",
    "ax.legend(bbox_to_anchor = (1.02, 1), loc = 'upper left', borderaxespad = 0, title = 'Location Type')\n",
    "plt.title('Boroughs With The Most Parties Per Location Type')\n",
    "plt.xlabel('Boroughs')\n",
    "plt.ylabel('Number Of Parties')\n",
    "plt.ylim((0, 1000))\n",
    "\n",
    "for i in range(len(ax.containers)):\n",
    "    ax.bar_label(ax.containers[i], size = 8, label_type = 'center')\n",
    "    \n",
    "#plt.savefig('Python_Project_Visuals/borough_parties_3.png')"
   ]
  },
  {
   "cell_type": "markdown",
   "metadata": {},
   "source": [
    "So by looking even closer, I can see that Staten Island is the only borough where more parties are held in club/bar/restaurant locations than a street/sidewalk location. Now that I analyzed the party incidents for everything, I now want to get a bit more information on incidents for only the club/bar/incident location types. This information is on the `bar_locations` dataframe."
   ]
  },
  {
   "cell_type": "code",
   "execution_count": 68,
   "metadata": {},
   "outputs": [
    {
     "data": {
      "text/html": [
       "<div>\n",
       "<style scoped>\n",
       "    .dataframe tbody tr th:only-of-type {\n",
       "        vertical-align: middle;\n",
       "    }\n",
       "\n",
       "    .dataframe tbody tr th {\n",
       "        vertical-align: top;\n",
       "    }\n",
       "\n",
       "    .dataframe thead th {\n",
       "        text-align: right;\n",
       "    }\n",
       "</style>\n",
       "<table border=\"1\" class=\"dataframe\">\n",
       "  <thead>\n",
       "    <tr style=\"text-align: right;\">\n",
       "      <th></th>\n",
       "      <th>Location Type</th>\n",
       "      <th>Incident Zip</th>\n",
       "      <th>City</th>\n",
       "      <th>Borough</th>\n",
       "      <th>Latitude</th>\n",
       "      <th>Longitude</th>\n",
       "      <th>num_calls</th>\n",
       "    </tr>\n",
       "  </thead>\n",
       "  <tbody>\n",
       "    <tr>\n",
       "      <th>0</th>\n",
       "      <td>Club/Bar/Restaurant</td>\n",
       "      <td>10308.0</td>\n",
       "      <td>STATEN ISLAND</td>\n",
       "      <td>STATEN ISLAND</td>\n",
       "      <td>40.544096</td>\n",
       "      <td>-74.141155</td>\n",
       "      <td>40</td>\n",
       "    </tr>\n",
       "    <tr>\n",
       "      <th>1</th>\n",
       "      <td>Club/Bar/Restaurant</td>\n",
       "      <td>10012.0</td>\n",
       "      <td>NEW YORK</td>\n",
       "      <td>MANHATTAN</td>\n",
       "      <td>40.729793</td>\n",
       "      <td>-73.998842</td>\n",
       "      <td>18</td>\n",
       "    </tr>\n",
       "    <tr>\n",
       "      <th>2</th>\n",
       "      <td>Club/Bar/Restaurant</td>\n",
       "      <td>10308.0</td>\n",
       "      <td>STATEN ISLAND</td>\n",
       "      <td>STATEN ISLAND</td>\n",
       "      <td>40.544209</td>\n",
       "      <td>-74.141040</td>\n",
       "      <td>21</td>\n",
       "    </tr>\n",
       "    <tr>\n",
       "      <th>3</th>\n",
       "      <td>Club/Bar/Restaurant</td>\n",
       "      <td>10034.0</td>\n",
       "      <td>NEW YORK</td>\n",
       "      <td>MANHATTAN</td>\n",
       "      <td>40.866376</td>\n",
       "      <td>-73.928258</td>\n",
       "      <td>160</td>\n",
       "    </tr>\n",
       "    <tr>\n",
       "      <th>4</th>\n",
       "      <td>Club/Bar/Restaurant</td>\n",
       "      <td>11220.0</td>\n",
       "      <td>BROOKLYN</td>\n",
       "      <td>BROOKLYN</td>\n",
       "      <td>40.635207</td>\n",
       "      <td>-74.020285</td>\n",
       "      <td>17</td>\n",
       "    </tr>\n",
       "  </tbody>\n",
       "</table>\n",
       "</div>"
      ],
      "text/plain": [
       "         Location Type  Incident Zip           City        Borough   Latitude  \\\n",
       "0  Club/Bar/Restaurant       10308.0  STATEN ISLAND  STATEN ISLAND  40.544096   \n",
       "1  Club/Bar/Restaurant       10012.0       NEW YORK      MANHATTAN  40.729793   \n",
       "2  Club/Bar/Restaurant       10308.0  STATEN ISLAND  STATEN ISLAND  40.544209   \n",
       "3  Club/Bar/Restaurant       10034.0       NEW YORK      MANHATTAN  40.866376   \n",
       "4  Club/Bar/Restaurant       11220.0       BROOKLYN       BROOKLYN  40.635207   \n",
       "\n",
       "   Longitude  num_calls  \n",
       "0 -74.141155         40  \n",
       "1 -73.998842         18  \n",
       "2 -74.141040         21  \n",
       "3 -73.928258        160  \n",
       "4 -74.020285         17  "
      ]
     },
     "execution_count": 68,
     "metadata": {},
     "output_type": "execute_result"
    }
   ],
   "source": [
    "bar_locations.head()"
   ]
  },
  {
   "cell_type": "markdown",
   "metadata": {},
   "source": [
    "Now I want to see if there are any outliers on the `num_calls` column. Firstly, I want to get the mean of the `num_calls` column."
   ]
  },
  {
   "cell_type": "code",
   "execution_count": 69,
   "metadata": {},
   "outputs": [
    {
     "data": {
      "text/plain": [
       "37.02581967213115"
      ]
     },
     "execution_count": 69,
     "metadata": {},
     "output_type": "execute_result"
    }
   ],
   "source": [
    "bar_locations['num_calls'].mean()"
   ]
  },
  {
   "cell_type": "markdown",
   "metadata": {},
   "source": [
    "So the mean is a little over 37. Now I want to verify for myself that there are no outliers by taking the Z_Score of the column."
   ]
  },
  {
   "cell_type": "code",
   "execution_count": 70,
   "metadata": {},
   "outputs": [
    {
     "data": {
      "text/plain": [
       "array([ 0.04987753, -0.31906637, -0.26875584, ..., -0.33583655,\n",
       "       -0.43645762, -0.43645762])"
      ]
     },
     "execution_count": 70,
     "metadata": {},
     "output_type": "execute_result"
    }
   ],
   "source": [
    "zs = stats.zscore(bar_locations['num_calls'])\n",
    "zs"
   ]
  },
  {
   "cell_type": "markdown",
   "metadata": {},
   "source": [
    "So now like before, I want to add those Z_Scores to the table."
   ]
  },
  {
   "cell_type": "code",
   "execution_count": 71,
   "metadata": {},
   "outputs": [
    {
     "data": {
      "text/html": [
       "<div>\n",
       "<style scoped>\n",
       "    .dataframe tbody tr th:only-of-type {\n",
       "        vertical-align: middle;\n",
       "    }\n",
       "\n",
       "    .dataframe tbody tr th {\n",
       "        vertical-align: top;\n",
       "    }\n",
       "\n",
       "    .dataframe thead th {\n",
       "        text-align: right;\n",
       "    }\n",
       "</style>\n",
       "<table border=\"1\" class=\"dataframe\">\n",
       "  <thead>\n",
       "    <tr style=\"text-align: right;\">\n",
       "      <th></th>\n",
       "      <th>Location Type</th>\n",
       "      <th>Incident Zip</th>\n",
       "      <th>City</th>\n",
       "      <th>Borough</th>\n",
       "      <th>Latitude</th>\n",
       "      <th>Longitude</th>\n",
       "      <th>num_calls</th>\n",
       "      <th>num_calls Z_Scores</th>\n",
       "    </tr>\n",
       "  </thead>\n",
       "  <tbody>\n",
       "    <tr>\n",
       "      <th>0</th>\n",
       "      <td>Club/Bar/Restaurant</td>\n",
       "      <td>10308.0</td>\n",
       "      <td>STATEN ISLAND</td>\n",
       "      <td>STATEN ISLAND</td>\n",
       "      <td>40.544096</td>\n",
       "      <td>-74.141155</td>\n",
       "      <td>40</td>\n",
       "      <td>0.049878</td>\n",
       "    </tr>\n",
       "    <tr>\n",
       "      <th>1</th>\n",
       "      <td>Club/Bar/Restaurant</td>\n",
       "      <td>10012.0</td>\n",
       "      <td>NEW YORK</td>\n",
       "      <td>MANHATTAN</td>\n",
       "      <td>40.729793</td>\n",
       "      <td>-73.998842</td>\n",
       "      <td>18</td>\n",
       "      <td>-0.319066</td>\n",
       "    </tr>\n",
       "    <tr>\n",
       "      <th>2</th>\n",
       "      <td>Club/Bar/Restaurant</td>\n",
       "      <td>10308.0</td>\n",
       "      <td>STATEN ISLAND</td>\n",
       "      <td>STATEN ISLAND</td>\n",
       "      <td>40.544209</td>\n",
       "      <td>-74.141040</td>\n",
       "      <td>21</td>\n",
       "      <td>-0.268756</td>\n",
       "    </tr>\n",
       "    <tr>\n",
       "      <th>3</th>\n",
       "      <td>Club/Bar/Restaurant</td>\n",
       "      <td>10034.0</td>\n",
       "      <td>NEW YORK</td>\n",
       "      <td>MANHATTAN</td>\n",
       "      <td>40.866376</td>\n",
       "      <td>-73.928258</td>\n",
       "      <td>160</td>\n",
       "      <td>2.062299</td>\n",
       "    </tr>\n",
       "    <tr>\n",
       "      <th>4</th>\n",
       "      <td>Club/Bar/Restaurant</td>\n",
       "      <td>11220.0</td>\n",
       "      <td>BROOKLYN</td>\n",
       "      <td>BROOKLYN</td>\n",
       "      <td>40.635207</td>\n",
       "      <td>-74.020285</td>\n",
       "      <td>17</td>\n",
       "      <td>-0.335837</td>\n",
       "    </tr>\n",
       "  </tbody>\n",
       "</table>\n",
       "</div>"
      ],
      "text/plain": [
       "         Location Type  Incident Zip           City        Borough   Latitude  \\\n",
       "0  Club/Bar/Restaurant       10308.0  STATEN ISLAND  STATEN ISLAND  40.544096   \n",
       "1  Club/Bar/Restaurant       10012.0       NEW YORK      MANHATTAN  40.729793   \n",
       "2  Club/Bar/Restaurant       10308.0  STATEN ISLAND  STATEN ISLAND  40.544209   \n",
       "3  Club/Bar/Restaurant       10034.0       NEW YORK      MANHATTAN  40.866376   \n",
       "4  Club/Bar/Restaurant       11220.0       BROOKLYN       BROOKLYN  40.635207   \n",
       "\n",
       "   Longitude  num_calls  num_calls Z_Scores  \n",
       "0 -74.141155         40            0.049878  \n",
       "1 -73.998842         18           -0.319066  \n",
       "2 -74.141040         21           -0.268756  \n",
       "3 -73.928258        160            2.062299  \n",
       "4 -74.020285         17           -0.335837  "
      ]
     },
     "execution_count": 71,
     "metadata": {},
     "output_type": "execute_result"
    }
   ],
   "source": [
    "zs = pd.Series(zs)\n",
    "bar_locations['num_calls Z_Scores'] = zs\n",
    "bar_locations.head()"
   ]
  },
  {
   "cell_type": "markdown",
   "metadata": {},
   "source": [
    "So now with my Z_Scores on the table, it's time to check for outliers."
   ]
  },
  {
   "cell_type": "code",
   "execution_count": 72,
   "metadata": {},
   "outputs": [
    {
     "data": {
      "text/html": [
       "<div>\n",
       "<style scoped>\n",
       "    .dataframe tbody tr th:only-of-type {\n",
       "        vertical-align: middle;\n",
       "    }\n",
       "\n",
       "    .dataframe tbody tr th {\n",
       "        vertical-align: top;\n",
       "    }\n",
       "\n",
       "    .dataframe thead th {\n",
       "        text-align: right;\n",
       "    }\n",
       "</style>\n",
       "<table border=\"1\" class=\"dataframe\">\n",
       "  <thead>\n",
       "    <tr style=\"text-align: right;\">\n",
       "      <th></th>\n",
       "      <th>Location Type</th>\n",
       "      <th>Incident Zip</th>\n",
       "      <th>City</th>\n",
       "      <th>Borough</th>\n",
       "      <th>Latitude</th>\n",
       "      <th>Longitude</th>\n",
       "      <th>num_calls</th>\n",
       "      <th>num_calls Z_Scores</th>\n",
       "    </tr>\n",
       "  </thead>\n",
       "  <tbody>\n",
       "    <tr>\n",
       "      <th>7</th>\n",
       "      <td>Club/Bar/Restaurant</td>\n",
       "      <td>10034.0</td>\n",
       "      <td>NEW YORK</td>\n",
       "      <td>MANHATTAN</td>\n",
       "      <td>40.869549</td>\n",
       "      <td>-73.916348</td>\n",
       "      <td>271</td>\n",
       "      <td>3.923789</td>\n",
       "    </tr>\n",
       "    <tr>\n",
       "      <th>13</th>\n",
       "      <td>Club/Bar/Restaurant</td>\n",
       "      <td>10009.0</td>\n",
       "      <td>NEW YORK</td>\n",
       "      <td>MANHATTAN</td>\n",
       "      <td>40.723494</td>\n",
       "      <td>-73.988253</td>\n",
       "      <td>1175</td>\n",
       "      <td>19.084029</td>\n",
       "    </tr>\n",
       "    <tr>\n",
       "      <th>16</th>\n",
       "      <td>Club/Bar/Restaurant</td>\n",
       "      <td>10040.0</td>\n",
       "      <td>NEW YORK</td>\n",
       "      <td>MANHATTAN</td>\n",
       "      <td>40.864377</td>\n",
       "      <td>-73.926536</td>\n",
       "      <td>458</td>\n",
       "      <td>7.059812</td>\n",
       "    </tr>\n",
       "    <tr>\n",
       "      <th>43</th>\n",
       "      <td>Club/Bar/Restaurant</td>\n",
       "      <td>11238.0</td>\n",
       "      <td>BROOKLYN</td>\n",
       "      <td>BROOKLYN</td>\n",
       "      <td>40.682720</td>\n",
       "      <td>-73.963292</td>\n",
       "      <td>231</td>\n",
       "      <td>3.252981</td>\n",
       "    </tr>\n",
       "    <tr>\n",
       "      <th>54</th>\n",
       "      <td>Club/Bar/Restaurant</td>\n",
       "      <td>11238.0</td>\n",
       "      <td>BROOKLYN</td>\n",
       "      <td>BROOKLYN</td>\n",
       "      <td>40.681423</td>\n",
       "      <td>-73.957102</td>\n",
       "      <td>302</td>\n",
       "      <td>4.443664</td>\n",
       "    </tr>\n",
       "  </tbody>\n",
       "</table>\n",
       "</div>"
      ],
      "text/plain": [
       "          Location Type  Incident Zip      City    Borough   Latitude  \\\n",
       "7   Club/Bar/Restaurant       10034.0  NEW YORK  MANHATTAN  40.869549   \n",
       "13  Club/Bar/Restaurant       10009.0  NEW YORK  MANHATTAN  40.723494   \n",
       "16  Club/Bar/Restaurant       10040.0  NEW YORK  MANHATTAN  40.864377   \n",
       "43  Club/Bar/Restaurant       11238.0  BROOKLYN   BROOKLYN  40.682720   \n",
       "54  Club/Bar/Restaurant       11238.0  BROOKLYN   BROOKLYN  40.681423   \n",
       "\n",
       "    Longitude  num_calls  num_calls Z_Scores  \n",
       "7  -73.916348        271            3.923789  \n",
       "13 -73.988253       1175           19.084029  \n",
       "16 -73.926536        458            7.059812  \n",
       "43 -73.963292        231            3.252981  \n",
       "54 -73.957102        302            4.443664  "
      ]
     },
     "execution_count": 72,
     "metadata": {},
     "output_type": "execute_result"
    }
   ],
   "source": [
    "bar_locations.loc[bar_locations['num_calls Z_Scores'] > 3].head()"
   ]
  },
  {
   "cell_type": "code",
   "execution_count": 73,
   "metadata": {},
   "outputs": [
    {
     "data": {
      "text/plain": [
       "2440"
      ]
     },
     "execution_count": 73,
     "metadata": {},
     "output_type": "execute_result"
    }
   ],
   "source": [
    "len(bar_locations)"
   ]
  },
  {
   "cell_type": "code",
   "execution_count": 74,
   "metadata": {},
   "outputs": [
    {
     "data": {
      "text/plain": [
       "29"
      ]
     },
     "execution_count": 74,
     "metadata": {},
     "output_type": "execute_result"
    }
   ],
   "source": [
    "len(bar_locations.loc[bar_locations['num_calls Z_Scores'] > 3])"
   ]
  },
  {
   "cell_type": "markdown",
   "metadata": {},
   "source": [
    "So as far as the outliers go, there are almost 30 of them. I want to see if removing them would change the mean by a significant amount."
   ]
  },
  {
   "cell_type": "code",
   "execution_count": 75,
   "metadata": {},
   "outputs": [
    {
     "data": {
      "text/plain": [
       "37.02581967213115"
      ]
     },
     "execution_count": 75,
     "metadata": {},
     "output_type": "execute_result"
    }
   ],
   "source": [
    "bar_locations['num_calls'].mean()"
   ]
  },
  {
   "cell_type": "code",
   "execution_count": 76,
   "metadata": {},
   "outputs": [
    {
     "data": {
      "text/plain": [
       "32.672335130651184"
      ]
     },
     "execution_count": 76,
     "metadata": {},
     "output_type": "execute_result"
    }
   ],
   "source": [
    "bar_locations_acc = bar_locations.loc[bar_locations['num_calls Z_Scores'] < 3]\n",
    "bar_locations_acc['num_calls'].mean()"
   ]
  },
  {
   "cell_type": "code",
   "execution_count": 77,
   "metadata": {},
   "outputs": [
    {
     "data": {
      "text/plain": [
       "4.353484541479965"
      ]
     },
     "execution_count": 77,
     "metadata": {},
     "output_type": "execute_result"
    }
   ],
   "source": [
    "bar_locations['num_calls'].mean() - bar_locations_acc['num_calls'].mean()"
   ]
  },
  {
   "cell_type": "markdown",
   "metadata": {},
   "source": [
    "So by removing the outliers, I would be changing the mean by around 4.35. I feel like I should keep the outliers as removing them can remove significant data. Now with this data, I feel like the best analysis that I can do is a heat map based on zip codes to show where the hot party spots are throughout the different boroughs. I can do this by using the Folium and Json libraries. "
   ]
  },
  {
   "cell_type": "code",
   "execution_count": 78,
   "metadata": {},
   "outputs": [],
   "source": [
    "import folium\n",
    "import json\n",
    "from folium import plugins\n",
    "import branca.colormap as cm\n",
    "from collections import defaultdict as dd\n",
    "import webbrowser as wb"
   ]
  },
  {
   "cell_type": "code",
   "execution_count": 79,
   "metadata": {},
   "outputs": [
    {
     "name": "stderr",
     "output_type": "stream",
     "text": [
      "<ipython-input-79-1c5e6bd38097>:16: FutureWarning: Method `add_children` is deprecated. Please use `add_child` instead.\n",
      "  nyc_map.add_children(plugins.HeatMap(data = bar_locations[['Latitude', 'Longitude']].values,\n"
     ]
    },
    {
     "data": {
      "text/plain": [
       "True"
      ]
     },
     "execution_count": 79,
     "metadata": {},
     "output_type": "execute_result"
    }
   ],
   "source": [
    "nyc_map = folium.Map(location = [40.9020, -73.9000], tiles = 'Stamen Toner', zoom_start = 9)\n",
    "\n",
    "for i, r in bar_locations.iterrows():\n",
    "    folium.CircleMarker((r.Latitude, r.Longitude),\n",
    "                        radius = 3, weight = 2, color = 'red', fill_color = 'red',\n",
    "                        fill_opacity = 0.5).add_to(nyc_map)\n",
    "\n",
    "steps = 20\n",
    "cm = cm.linear.YlOrRd_09.scale(0, 1).to_step(steps)\n",
    "gm = dd(dict)\n",
    "\n",
    "for i in range(steps):\n",
    "    gm[1 / steps * i] = cm.rgb_hex_str(1 / steps * i)\n",
    "    cm.add_to(nyc_map)\n",
    "\n",
    "nyc_map.add_children(plugins.HeatMap(data = bar_locations[['Latitude', 'Longitude']].values,\n",
    "                                    radius = 25, blur = 10))\n",
    "#nyc_map.save('nyc_heatmap.html')\n",
    "wb.open('nyc_heatmap.html')"
   ]
  },
  {
   "cell_type": "markdown",
   "metadata": {},
   "source": [
    "So as the heat map shows, there are different hot zones for bars based around location. It looks like Staten Island, East Queens and The Bronx aren't that much of a hot zone when it comes to bars. The bar scenes really start to pick up both in Manhattan and also in outer borough areas closer to Manhattan. This makes sense as Manhattan is what people think when they hear 'New York City'."
   ]
  },
  {
   "cell_type": "markdown",
   "metadata": {},
   "source": [
    "In terms of where I recommend to party, it really depends on the type of setting one is going for. If it's a bar, then definitely I would recommend Manhattan or anywhere in the outer boroughs close to Manhattan, but really it depends more on how far out someone is willing to go. For parties on houses and streets, The Bronx appears to go a long time with parties before getting shut down due to complaints though it's a bit more out of the way as it's closer to North Manhattan, but there still is quite the bar scene in the West Bronx and North Manhattan. Street/sidewalk parties work best when the weather is warmer. Really there are a lot of perspectives that one can take when choosing the type of location to party in and where in NYC to party in. Since Manhattan is a large borough, the best I can recomend around there is Downtown and Midtown as those are the main hot zones. However if someone wishes to go a bit higher, then the Upper East Side by 2nd Avenue works best. There's also a bit of a hot zone near the top of Manhattan by the George Washington Bridge."
   ]
  },
  {
   "cell_type": "code",
   "execution_count": null,
   "metadata": {},
   "outputs": [],
   "source": []
  }
 ],
 "metadata": {
  "kernelspec": {
   "display_name": "Python 3",
   "language": "python",
   "name": "python3"
  },
  "language_info": {
   "codemirror_mode": {
    "name": "ipython",
    "version": 3
   },
   "file_extension": ".py",
   "mimetype": "text/x-python",
   "name": "python",
   "nbconvert_exporter": "python",
   "pygments_lexer": "ipython3",
   "version": "3.8.5"
  }
 },
 "nbformat": 4,
 "nbformat_minor": 4
}
